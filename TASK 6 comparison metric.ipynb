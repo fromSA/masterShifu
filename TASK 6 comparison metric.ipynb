{
 "cells": [
  {
   "cell_type": "markdown",
   "metadata": {},
   "source": [
    "## Metric for comparing the samples from generator of patients vs samples of real patients "
   ]
  },
  {
   "cell_type": "markdown",
   "metadata": {},
   "source": [
    "<img name=\"patient comparator\" src=\"prComparator.png\" width=300 height=300> </img>    \n",
    "\n",
    "The nr of patients should not matter in either of the original data or the generated data "
   ]
  },
  {
   "cell_type": "markdown",
   "metadata": {},
   "source": [
    "## Definitions \n",
    "\n",
    "<table>\n",
    "    <tr>\n",
    "        <td>$Symbol$ </td>\n",
    "        <td>$Definition$</td>\n",
    "    </tr>\n",
    "    <tr>\n",
    "        <td>$con$</td>\n",
    "        <td>control patient group</td>\n",
    "    </tr>\n",
    "    <tr>\n",
    "        <td>$dis$</td>\n",
    "        <td>diseased patient group</td>\n",
    "    </tr>\n",
    "    <tr>\n",
    "        <td>$gen$</td>\n",
    "        <td>generated patients</td>\n",
    "    </tr>\n",
    "    <tr>\n",
    "        <td>$ori$</td>\n",
    "        <td>original patients</td>\n",
    "    </tr>\n",
    "    <tr>\n",
    "        <td>$g \\in \\{control, diseased\\}$</td>\n",
    "        <td>patient group</td>\n",
    "    </tr>\n",
    "    <tr>\n",
    "        <td>$t \\in \\{original, generated\\}$ </td>\n",
    "        <td>data type</td>  \n",
    "    </tr>\n",
    "    <tr>\n",
    "        <td>$c^j_i$</td>\n",
    "        <td>cell nr. $j$ of patient $i$</td>\n",
    "    </tr>\n",
    "    <tr>\n",
    "        <td>$\\sigma_i$ </td>\n",
    "        <td>group and type $(g,t)$ of patient $i$</td>\n",
    "    </tr>\n",
    "    <tr>\n",
    "        <td>$P_i = \\{ c^1_i, c^2_i, \\cdots, c^n_i\\}$</td>\n",
    "        <td> cells of patient $i$</td>\n",
    "    </tr>\n",
    "    <tr>\n",
    "        <td>$U^g$</td>\n",
    "        <td>Umap embedding trained on all cells of group $g$ of the $original$ patients</td>\n",
    "    </tr>\n",
    "    <tr>\n",
    "        <td>$M_i = U^g(P_i)$</td>\n",
    "        <td> cells of controll patient $i$ embedded using $U^g$, where $g,t \\leftarrow$ $\\sigma_i$</td>\n",
    "    </tr>\n",
    "    <tr>\n",
    "        <td>$G_{i,j}$</td>\n",
    "        <td>a mesh grid ranging from min($M_i$,$M_j$) to the max($M_i$, $M_j$)</td>\n",
    "    </tr>\n",
    "    <tr>\n",
    "        <td>$p_i = p(M_i)$</td>\n",
    "        <td>kernel denisty estimation over the embedded cells of patient $i$</td>\n",
    "    </tr>\n",
    "    <tr>\n",
    "        <td>$KL_p(P_i, P_j)$</td>\n",
    "        <td>the kullback leibler divergence between to patients measured over a mesh grid $G_{i,j}$ (to measure the density over the same space) using $p_i$ for $P_i$ and $p_j$ for $P_j$ <br>$p$ indicated this measures the difference between two patients</td>\n",
    "    </tr>\n",
    "    <tr>\n",
    "        <td>$S_\\theta$</td>\n",
    "        <td>the set of all patients from the group g and data t, where $[g,t] \\leftarrow \\theta$</td>\n",
    "    </tr>\n",
    "    <tr>\n",
    "        <td>$H(\\theta_1,\\theta_2)$</td>\n",
    "        <td>$\\{KL_p(P_i, P_j) | P_i \\in S_{\\theta_1} \\wedge P_j\\in S_{\\theta_2}\\}$</td>\n",
    "    </tr>\n",
    "    <tr>\n",
    "        <td>$D(\\theta_1,\\theta_2)$</td>\n",
    "        <td>the destribution of $H(\\theta_1,\\theta_2)$ estimated using kernel denisty estimation </td>\n",
    "    </tr>\n",
    "    <tr>\n",
    "        <td>$\\Sigma_{\\theta_1,\\theta_2}$</td>\n",
    "        <td>the sum of $H(\\theta_1,\\theta_2)$</td>\n",
    "    </tr>\n",
    "</table>"
   ]
  },
  {
   "cell_type": "markdown",
   "metadata": {},
   "source": [
    "## We consider a generative model to be good when\n",
    "1. <i style=\"color:brown\">$D(\\textit{[con,ori]},\\textit{[dis,ori]})$</i> is as similar to <i style=\"color:brown\">$D(\\textit{[con,gen]},\\textit{[dis,gen]})$</i> as possible. Indicated with the arrows by their respective color in figure 1. \n",
    "2. <i style=\"color:green\">$\\sum_{\\textit{[con,ori]},\\textit{[con,gen]}}$</i> is as small as possible\n",
    "3. <i style=\"color:green\">$\\sum_{\\textit{[dis,ori]},\\textit{[dis,gen]}}$</i> is as small as possible\n",
    "\n",
    "## The pruposed metric\n",
    "Thus a simple formula for measuring the performance (how good are the patients generated) of a generative model  can be:\n",
    "\n",
    "$$Loss(model) = KL_s( D(\\textit{[con,ori]},\\textit{[dis,ori]}), D(\\textit{[con,gen]},\\textit{[dis,gen]}) ) + \\sum_{\\textit{[con,ori]},\\textit{[con,gen]}} + \\sum_{\\textit{[dis,ori]},\\textit{[dis,gen]}}$$\n",
    "\n",
    "Because KL divergence, $KL(P|Q)$ can be thought as the information loss when $Q$ is used to estimate $P$. Here, $KL_s(P|Q)$ is the symmetric KL divergence."
   ]
  },
  {
   "cell_type": "code",
   "execution_count": null,
   "metadata": {},
   "outputs": [],
   "source": [
    "def H(h1,h2):\n",
    "    div = []\n",
    "    for i in h1:\n",
    "        for j in h2:\n",
    "            div.append(KL_patient(i,j))\n",
    "    return div"
   ]
  },
  {
   "cell_type": "code",
   "execution_count": null,
   "metadata": {},
   "outputs": [],
   "source": [
    "def KLc(d1, d2):\n",
    "    max_1 = np.max(p1)\n",
    "    min_1 = np.min(p1)\n",
    "    max_2 = np.max(p2)\n",
    "    min_2 = np.min(p2)\n",
    "    X = meshgrid(min_value = np.min([min_1, min_2])-1, max_value = np.max([max_1,max_2])+1 )\n",
    "\n",
    "    density1 = d1[0]\n",
    "    \n",
    "    pass\n",
    "    \n",
    "def D(t1, t2):\n",
    "    h = H(t1, t2)\n",
    "    return KernelDensity(kernel = \"linear\", bandwidth=1).fit(h), h\n",
    "    \n",
    "def S(t2, t2):\n",
    "    return np.sum(H(t2,t2))"
   ]
  },
  {
   "cell_type": "code",
   "execution_count": null,
   "metadata": {},
   "outputs": [],
   "source": [
    "def model_loss():\n",
    "    co = [] # TODO list of control original patients\n",
    "    do = [] # TODO list of deseased original patients\n",
    "    cg = [] # TODO list of control generated patients\n",
    "    cg = [] # TODO list of deseased generated patients\n",
    "\n",
    "    sim = KLc(D(co,do), D(cg,dg))\n",
    "    sim1 = S((con,ori), (con,gen))\n",
    "    sim2 = S((dis,ori), (dis,gen))\n",
    "    return sim + sim1 + sim2"
   ]
  },
  {
   "cell_type": "markdown",
   "metadata": {},
   "source": [
    "## Need an online version of the density estimator for the variational autoencoder."
   ]
  },
  {
   "cell_type": "code",
   "execution_count": null,
   "metadata": {},
   "outputs": [],
   "source": [
    " def KL(a,b):\n",
    "        \"\"\"\n",
    "        PARAMETERS\n",
    "        ----------\n",
    "        a : numpy array\n",
    "        b : numpy array\n",
    "        \n",
    "        RETURNS\n",
    "        -------\n",
    "        kl divergence : int\n",
    "            the nonsymmetric kulback liebler divergence between a and b. \n",
    "        \"\"\"\n",
    "        a = np.asarray(a, dtype=np.float)\n",
    "        b = np.asarray(b, dtype=np.float)\n",
    "        a = np.exp(np.where(a!= float('-inf'), a, 0))\n",
    "        b = np.exp(np.where(b!= float('-inf'), b, 0))\n",
    "\n",
    "        cond = np.logical_and(b != float('-inf'), a!= float('-inf'), b != 0)\n",
    "    \n",
    "        return np.sum(np.where(cond, a * np.log(a / b), 0))"
   ]
  },
  {
   "cell_type": "code",
   "execution_count": null,
   "metadata": {},
   "outputs": [],
   "source": []
  },
  {
   "cell_type": "markdown",
   "metadata": {},
   "source": [
    "### Questions\n",
    "\n",
    "#### Master\n",
    "1. Should I use the mean or another point statistic for 2 and 3 to make the metric size invariant? (Median is more stable, because mean is affected by outliers)\n",
    "2. The bottle neck is still measureing kl.\n",
    "    - use a meshgrid generated from the original data plus-minus 10% span. And evaluate the mesh per patient, not per comparison. And write about the reasoning. \n",
    "\n",
    "\n",
    "#### Project\n",
    "1. Testing is difficualt because there is randomness that must be included in the code.\n",
    "2. When I create an example, should I \n",
    "    - add a printed version on github?\n",
    "    - as a program that can be run and include it in the library, i.e. a main function that can be called?\n",
    "    "
   ]
  },
  {
   "cell_type": "markdown",
   "metadata": {},
   "source": [
    "### TODO\n",
    "1. Implement the double-date metric\n",
    "2. Out of the selected models (GMM, VAE, GANs, NaiveBayesian), find the best model using the double-date metric."
   ]
  },
  {
   "cell_type": "code",
   "execution_count": null,
   "metadata": {},
   "outputs": [],
   "source": []
  }
 ],
 "metadata": {
  "kernelspec": {
   "display_name": "Python 3",
   "language": "python",
   "name": "python3"
  },
  "language_info": {
   "codemirror_mode": {
    "name": "ipython",
    "version": 3
   },
   "file_extension": ".py",
   "mimetype": "text/x-python",
   "name": "python",
   "nbconvert_exporter": "python",
   "pygments_lexer": "ipython3",
   "version": "3.7.4"
  }
 },
 "nbformat": 4,
 "nbformat_minor": 2
}
