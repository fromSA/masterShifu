{
 "cells": [
  {
   "cell_type": "code",
   "execution_count": 1,
   "metadata": {},
   "outputs": [],
   "source": [
    "import flowio\n",
    "import numpy as np\n",
    "import pandas as pd\n",
    "import os"
   ]
  },
  {
   "cell_type": "code",
   "execution_count": 3,
   "metadata": {},
   "outputs": [],
   "source": [
    "file_path = 'OriginalDATA/FlowRepository_FR-FCM-Z24N_files'\n",
    "files = os.listdir(file_path)\n",
    "files.sort()"
   ]
  },
  {
   "cell_type": "code",
   "execution_count": 5,
   "metadata": {},
   "outputs": [],
   "source": [
    "controls = [f for f in files if \"KTR\" in f]\n",
    "\n",
    "unstim_control = [f for f in controls if 'unstim' in f]\n",
    "stim_control = [f for f in controls if ' stim' in f]"
   ]
  },
  {
   "cell_type": "code",
   "execution_count": 7,
   "metadata": {},
   "outputs": [],
   "source": [
    "ras = [f for f in files if \"RA\" in f]\n",
    "\n",
    "unstim_ras = [f for f in ras if \"unstim\" in f]\n",
    "stim_ras = [f for f in ras if \" stim\" in f]"
   ]
  },
  {
   "cell_type": "markdown",
   "metadata": {},
   "source": [
    "### TODO\n",
    "- get a list of the channels that I want with their channel number\n",
    "- from the pandas get this channels\n",
    "- name the channels appropriately"
   ]
  },
  {
   "cell_type": "markdown",
   "metadata": {},
   "source": [
    "### Note\n",
    "- Cannot find functional marker p-Erk"
   ]
  },
  {
   "cell_type": "markdown",
   "metadata": {},
   "source": [
    "# RA-data description\n",
    "\n",
    "Mass cytometry (CyTOF)\n",
    "1. panel of 12 phenotyping and 10 functional markers\n",
    "2. signaling in unstimulated and TNF-stimulated peripheral blood mononulear cells\n",
    "3. from 20 newly diagnosed, untreated RA patients\n",
    "4. 20 healthy donors.\n",
    "\n",
    "1. unstim = unstimulated with tumor necrosis factor (TNF) (TNF inhibitors effectively repress inflammatory activity in RA)\n",
    "2. stim = stimulated with TNF\n",
    "3. ungated = manual removal of events representing \n",
    "\n",
    "## The RA paper:\n",
    "The objective of this study was to identify markers in immune cell populations that distinguish RA patients from healthy donors with an emphasis on TNF signaling\n",
    "\n",
    "We employed mass cytometry (CyTOF) with a panel of 13 phenotyping and 10 functional markers to explore signaling in unstimulated and TNF-stimulated peripheral blood mononuclear cells from 20 newly diagnosed, untreated RA patients and 20 healthy donors."
   ]
  },
  {
   "cell_type": "markdown",
   "metadata": {},
   "source": [
    "1. intracellular functional markers\n",
    "2. surface phenotypic markers "
   ]
  },
  {
   "cell_type": "markdown",
   "metadata": {},
   "source": [
    "problem:\n",
    "- want to collect more cells for each patient\n",
    "    - don't know what file belongs to each patient\n",
    "    - don't know which of the data is preprosessed or not\n",
    "- want to use more markers <b style=\"color:green\"> DONE </b> \n",
    "    - don't know how to get the other markers \n",
    "    - don't know which markers are phenotypical and which are functional\n",
    "    "
   ]
  },
  {
   "cell_type": "code",
   "execution_count": 143,
   "metadata": {},
   "outputs": [],
   "source": [
    "def get_events(file, markers, nr_events):\n",
    "    f = flowio.flowdata.FlowData(file)\n",
    "    marker_channels = dict()\n",
    "    for j in markers:\n",
    "        for k in f.channels.keys():\n",
    "            if (j in f.channels[k]['PnS']):\n",
    "                marker_channels[int(k)] = f.channels[k]['PnS']\n",
    "    \n",
    "    npy_data = np.reshape(f.events, (-1, f.channel_count))\n",
    "    subsample = random.sample(list(npy_data), nr_events)\n",
    "    df = pd.DataFrame(subsample)\n",
    "    df2 = df.rename(columns=marker_channels)\n",
    "    return df2[list(marker_channels.values())]"
   ]
  },
  {
   "cell_type": "code",
   "execution_count": 14,
   "metadata": {},
   "outputs": [],
   "source": [
    "# choose files\n",
    "# choose nr of cells per patient\n",
    "# concatenate all files into one df\n",
    "# save the file\n",
    "# write about the data"
   ]
  },
  {
   "cell_type": "code",
   "execution_count": 235,
   "metadata": {},
   "outputs": [],
   "source": [
    "def get_patients(group_files, nr_cells, file_path, markers, group_name, id_key):\n",
    "    all_df = None\n",
    "    for i, file in enumerate(group_files):\n",
    "        path = file_path + \"/\" + file\n",
    "        df = get_events(path, markers, nr_cells)\n",
    "        #key = \"({}-[0-9]+)\".format(id_key)\n",
    "        df[\"id\"] = i #re.findall(key, file)[0]\n",
    "        if i == 0:\n",
    "            all_df = df\n",
    "        else:\n",
    "            all_df = all_df.append(df, ignore_index=True)\n",
    "    all_df[\"group\"] = group_name\n",
    "    return all_df"
   ]
  },
  {
   "cell_type": "markdown",
   "metadata": {},
   "source": [
    "phenotyping for clustering : cell type\n",
    "\n",
    "functional for within clustering : what happens IN the cells"
   ]
  },
  {
   "cell_type": "code",
   "execution_count": 13,
   "metadata": {},
   "outputs": [],
   "source": [
    "# Taken from the paper\n",
    "phenotyping = ['CD20','CD3','CD4','CD8a','CD45RA', 'CD56', \n",
    "               'CD16', 'CD14', 'CD61', 'CD11c','CD123', 'HLA-DR', 'CD45']\n",
    "\n",
    "functional = ['Caspase3', 'CD86','p-p38','p-Erk','p-Akt','p-cJun','p-NFkB','IkBa','CD120a','CD120b']\n",
    "# missing one funcitonal, p-Erk. The metal expected 171Yb is not used attached to any antibody. This is explained in the paper"
   ]
  },
  {
   "cell_type": "code",
   "execution_count": 16,
   "metadata": {},
   "outputs": [],
   "source": []
  },
  {
   "cell_type": "code",
   "execution_count": 21,
   "metadata": {},
   "outputs": [],
   "source": [
    "def scale_df(df):\n",
    "    df_sub = df[df.columns.difference([\"id\",\"group\"])]\n",
    "    raw_scaled_df = df_sub.transform(lambda x: np.arcsinh(x/5))\n",
    "    df_scaled = raw_scaled_df.copy()\n",
    "    df_scaled[\"id\"] = df.id\n",
    "    df_scaled[\"group\"] = df.group\n",
    "    return df_scaled"
   ]
  },
  {
   "cell_type": "code",
   "execution_count": 23,
   "metadata": {},
   "outputs": [],
   "source": [
    "df = scale_df(df)"
   ]
  },
  {
   "cell_type": "code",
   "execution_count": 252,
   "metadata": {},
   "outputs": [
    {
     "data": {
      "text/html": [
       "<div>\n",
       "<style scoped>\n",
       "    .dataframe tbody tr th:only-of-type {\n",
       "        vertical-align: middle;\n",
       "    }\n",
       "\n",
       "    .dataframe tbody tr th {\n",
       "        vertical-align: top;\n",
       "    }\n",
       "\n",
       "    .dataframe thead th {\n",
       "        text-align: right;\n",
       "    }\n",
       "</style>\n",
       "<table border=\"1\" class=\"dataframe\">\n",
       "  <thead>\n",
       "    <tr style=\"text-align: right;\">\n",
       "      <th></th>\n",
       "      <th>142Nd_Caspase3</th>\n",
       "      <th>145Nd_CD4</th>\n",
       "      <th>146Nd_CD8a</th>\n",
       "      <th>147Sm_CD20</th>\n",
       "      <th>148Nd_CD16</th>\n",
       "      <th>150Nd_CD86</th>\n",
       "      <th>151Eu_CD123</th>\n",
       "      <th>152Sm_p-Akt</th>\n",
       "      <th>155Gd_CD120a</th>\n",
       "      <th>156Gd_p-p38</th>\n",
       "      <th>...</th>\n",
       "      <th>166Er_p-NFkB</th>\n",
       "      <th>167Er_p-cJun</th>\n",
       "      <th>169Tm_CD45RA</th>\n",
       "      <th>170Er_CD3</th>\n",
       "      <th>174Yb_HLA-DR</th>\n",
       "      <th>176Yb_CD56</th>\n",
       "      <th>209Bi_CD61</th>\n",
       "      <th>89Y_CD45</th>\n",
       "      <th>id</th>\n",
       "      <th>group</th>\n",
       "    </tr>\n",
       "  </thead>\n",
       "  <tbody>\n",
       "    <tr>\n",
       "      <th>3249703</th>\n",
       "      <td>0.079716</td>\n",
       "      <td>4.862322</td>\n",
       "      <td>0.000000</td>\n",
       "      <td>0.425815</td>\n",
       "      <td>0.0</td>\n",
       "      <td>0.258898</td>\n",
       "      <td>0.382597</td>\n",
       "      <td>0.081510</td>\n",
       "      <td>0.837722</td>\n",
       "      <td>0.0</td>\n",
       "      <td>...</td>\n",
       "      <td>0.000000</td>\n",
       "      <td>0.114152</td>\n",
       "      <td>4.010632</td>\n",
       "      <td>0.0</td>\n",
       "      <td>0.0</td>\n",
       "      <td>0.0</td>\n",
       "      <td>5.528366</td>\n",
       "      <td>0.0</td>\n",
       "      <td>0</td>\n",
       "      <td>diseased</td>\n",
       "    </tr>\n",
       "    <tr>\n",
       "      <th>3196090</th>\n",
       "      <td>0.000000</td>\n",
       "      <td>0.000000</td>\n",
       "      <td>0.000000</td>\n",
       "      <td>0.000000</td>\n",
       "      <td>0.0</td>\n",
       "      <td>0.354715</td>\n",
       "      <td>0.000000</td>\n",
       "      <td>0.000000</td>\n",
       "      <td>0.886878</td>\n",
       "      <td>0.0</td>\n",
       "      <td>...</td>\n",
       "      <td>0.434590</td>\n",
       "      <td>0.000000</td>\n",
       "      <td>0.000000</td>\n",
       "      <td>0.0</td>\n",
       "      <td>0.0</td>\n",
       "      <td>0.0</td>\n",
       "      <td>5.846364</td>\n",
       "      <td>0.0</td>\n",
       "      <td>0</td>\n",
       "      <td>diseased</td>\n",
       "    </tr>\n",
       "    <tr>\n",
       "      <th>67638</th>\n",
       "      <td>0.000000</td>\n",
       "      <td>2.514892</td>\n",
       "      <td>0.077323</td>\n",
       "      <td>0.000000</td>\n",
       "      <td>0.0</td>\n",
       "      <td>0.000000</td>\n",
       "      <td>0.165642</td>\n",
       "      <td>0.000000</td>\n",
       "      <td>0.447694</td>\n",
       "      <td>0.0</td>\n",
       "      <td>...</td>\n",
       "      <td>0.671731</td>\n",
       "      <td>0.000000</td>\n",
       "      <td>0.000000</td>\n",
       "      <td>0.0</td>\n",
       "      <td>0.0</td>\n",
       "      <td>0.0</td>\n",
       "      <td>5.852854</td>\n",
       "      <td>0.0</td>\n",
       "      <td>0</td>\n",
       "      <td>control</td>\n",
       "    </tr>\n",
       "    <tr>\n",
       "      <th>3251092</th>\n",
       "      <td>0.092866</td>\n",
       "      <td>5.083666</td>\n",
       "      <td>0.000000</td>\n",
       "      <td>0.000000</td>\n",
       "      <td>0.0</td>\n",
       "      <td>0.000000</td>\n",
       "      <td>0.000000</td>\n",
       "      <td>0.000000</td>\n",
       "      <td>0.000000</td>\n",
       "      <td>0.0</td>\n",
       "      <td>...</td>\n",
       "      <td>0.000000</td>\n",
       "      <td>0.000000</td>\n",
       "      <td>3.827497</td>\n",
       "      <td>0.0</td>\n",
       "      <td>0.0</td>\n",
       "      <td>0.0</td>\n",
       "      <td>5.740776</td>\n",
       "      <td>0.0</td>\n",
       "      <td>0</td>\n",
       "      <td>diseased</td>\n",
       "    </tr>\n",
       "    <tr>\n",
       "      <th>3290766</th>\n",
       "      <td>0.000000</td>\n",
       "      <td>1.059655</td>\n",
       "      <td>0.000000</td>\n",
       "      <td>0.000000</td>\n",
       "      <td>0.0</td>\n",
       "      <td>1.012897</td>\n",
       "      <td>0.322767</td>\n",
       "      <td>0.000000</td>\n",
       "      <td>3.693521</td>\n",
       "      <td>0.0</td>\n",
       "      <td>...</td>\n",
       "      <td>2.283759</td>\n",
       "      <td>0.000000</td>\n",
       "      <td>1.689329</td>\n",
       "      <td>0.0</td>\n",
       "      <td>0.0</td>\n",
       "      <td>0.0</td>\n",
       "      <td>5.697975</td>\n",
       "      <td>0.0</td>\n",
       "      <td>0</td>\n",
       "      <td>diseased</td>\n",
       "    </tr>\n",
       "    <tr>\n",
       "      <th>...</th>\n",
       "      <td>...</td>\n",
       "      <td>...</td>\n",
       "      <td>...</td>\n",
       "      <td>...</td>\n",
       "      <td>...</td>\n",
       "      <td>...</td>\n",
       "      <td>...</td>\n",
       "      <td>...</td>\n",
       "      <td>...</td>\n",
       "      <td>...</td>\n",
       "      <td>...</td>\n",
       "      <td>...</td>\n",
       "      <td>...</td>\n",
       "      <td>...</td>\n",
       "      <td>...</td>\n",
       "      <td>...</td>\n",
       "      <td>...</td>\n",
       "      <td>...</td>\n",
       "      <td>...</td>\n",
       "      <td>...</td>\n",
       "      <td>...</td>\n",
       "    </tr>\n",
       "    <tr>\n",
       "      <th>6259500</th>\n",
       "      <td>0.000000</td>\n",
       "      <td>0.799921</td>\n",
       "      <td>0.000000</td>\n",
       "      <td>0.000000</td>\n",
       "      <td>0.0</td>\n",
       "      <td>0.227629</td>\n",
       "      <td>0.000000</td>\n",
       "      <td>0.437691</td>\n",
       "      <td>1.240473</td>\n",
       "      <td>0.0</td>\n",
       "      <td>...</td>\n",
       "      <td>0.332632</td>\n",
       "      <td>0.000000</td>\n",
       "      <td>1.005044</td>\n",
       "      <td>0.0</td>\n",
       "      <td>0.0</td>\n",
       "      <td>0.0</td>\n",
       "      <td>5.923002</td>\n",
       "      <td>0.0</td>\n",
       "      <td>19</td>\n",
       "      <td>diseased</td>\n",
       "    </tr>\n",
       "    <tr>\n",
       "      <th>6240094</th>\n",
       "      <td>0.000000</td>\n",
       "      <td>1.244736</td>\n",
       "      <td>0.000000</td>\n",
       "      <td>0.000000</td>\n",
       "      <td>0.0</td>\n",
       "      <td>0.000000</td>\n",
       "      <td>0.484251</td>\n",
       "      <td>0.000000</td>\n",
       "      <td>0.000000</td>\n",
       "      <td>0.0</td>\n",
       "      <td>...</td>\n",
       "      <td>0.668000</td>\n",
       "      <td>0.473148</td>\n",
       "      <td>4.522711</td>\n",
       "      <td>0.0</td>\n",
       "      <td>0.0</td>\n",
       "      <td>0.0</td>\n",
       "      <td>5.572564</td>\n",
       "      <td>0.0</td>\n",
       "      <td>19</td>\n",
       "      <td>diseased</td>\n",
       "    </tr>\n",
       "    <tr>\n",
       "      <th>3131693</th>\n",
       "      <td>0.000000</td>\n",
       "      <td>0.013000</td>\n",
       "      <td>0.000000</td>\n",
       "      <td>0.000000</td>\n",
       "      <td>0.0</td>\n",
       "      <td>0.000000</td>\n",
       "      <td>0.000000</td>\n",
       "      <td>0.000000</td>\n",
       "      <td>0.968520</td>\n",
       "      <td>0.0</td>\n",
       "      <td>...</td>\n",
       "      <td>0.000000</td>\n",
       "      <td>0.000000</td>\n",
       "      <td>0.000000</td>\n",
       "      <td>0.0</td>\n",
       "      <td>0.0</td>\n",
       "      <td>0.0</td>\n",
       "      <td>5.766790</td>\n",
       "      <td>0.0</td>\n",
       "      <td>19</td>\n",
       "      <td>control</td>\n",
       "    </tr>\n",
       "    <tr>\n",
       "      <th>3077071</th>\n",
       "      <td>0.000000</td>\n",
       "      <td>0.875279</td>\n",
       "      <td>0.000000</td>\n",
       "      <td>0.000000</td>\n",
       "      <td>0.0</td>\n",
       "      <td>0.000000</td>\n",
       "      <td>0.389478</td>\n",
       "      <td>0.000000</td>\n",
       "      <td>0.716344</td>\n",
       "      <td>0.0</td>\n",
       "      <td>...</td>\n",
       "      <td>1.110713</td>\n",
       "      <td>0.000000</td>\n",
       "      <td>0.000000</td>\n",
       "      <td>0.0</td>\n",
       "      <td>0.0</td>\n",
       "      <td>0.0</td>\n",
       "      <td>5.824301</td>\n",
       "      <td>0.0</td>\n",
       "      <td>19</td>\n",
       "      <td>control</td>\n",
       "    </tr>\n",
       "    <tr>\n",
       "      <th>6314058</th>\n",
       "      <td>0.000000</td>\n",
       "      <td>3.453095</td>\n",
       "      <td>0.000000</td>\n",
       "      <td>0.000000</td>\n",
       "      <td>0.0</td>\n",
       "      <td>0.000000</td>\n",
       "      <td>0.826306</td>\n",
       "      <td>0.000000</td>\n",
       "      <td>0.560748</td>\n",
       "      <td>0.0</td>\n",
       "      <td>...</td>\n",
       "      <td>0.669948</td>\n",
       "      <td>0.195551</td>\n",
       "      <td>3.664065</td>\n",
       "      <td>0.0</td>\n",
       "      <td>0.0</td>\n",
       "      <td>0.0</td>\n",
       "      <td>5.713171</td>\n",
       "      <td>0.0</td>\n",
       "      <td>19</td>\n",
       "      <td>diseased</td>\n",
       "    </tr>\n",
       "  </tbody>\n",
       "</table>\n",
       "<p>800000 rows × 24 columns</p>\n",
       "</div>"
      ],
      "text/plain": [
       "         142Nd_Caspase3  145Nd_CD4  146Nd_CD8a  147Sm_CD20  148Nd_CD16  \\\n",
       "3249703        0.079716   4.862322    0.000000    0.425815         0.0   \n",
       "3196090        0.000000   0.000000    0.000000    0.000000         0.0   \n",
       "67638          0.000000   2.514892    0.077323    0.000000         0.0   \n",
       "3251092        0.092866   5.083666    0.000000    0.000000         0.0   \n",
       "3290766        0.000000   1.059655    0.000000    0.000000         0.0   \n",
       "...                 ...        ...         ...         ...         ...   \n",
       "6259500        0.000000   0.799921    0.000000    0.000000         0.0   \n",
       "6240094        0.000000   1.244736    0.000000    0.000000         0.0   \n",
       "3131693        0.000000   0.013000    0.000000    0.000000         0.0   \n",
       "3077071        0.000000   0.875279    0.000000    0.000000         0.0   \n",
       "6314058        0.000000   3.453095    0.000000    0.000000         0.0   \n",
       "\n",
       "         150Nd_CD86  151Eu_CD123  152Sm_p-Akt  155Gd_CD120a  156Gd_p-p38  ...  \\\n",
       "3249703    0.258898     0.382597     0.081510      0.837722          0.0  ...   \n",
       "3196090    0.354715     0.000000     0.000000      0.886878          0.0  ...   \n",
       "67638      0.000000     0.165642     0.000000      0.447694          0.0  ...   \n",
       "3251092    0.000000     0.000000     0.000000      0.000000          0.0  ...   \n",
       "3290766    1.012897     0.322767     0.000000      3.693521          0.0  ...   \n",
       "...             ...          ...          ...           ...          ...  ...   \n",
       "6259500    0.227629     0.000000     0.437691      1.240473          0.0  ...   \n",
       "6240094    0.000000     0.484251     0.000000      0.000000          0.0  ...   \n",
       "3131693    0.000000     0.000000     0.000000      0.968520          0.0  ...   \n",
       "3077071    0.000000     0.389478     0.000000      0.716344          0.0  ...   \n",
       "6314058    0.000000     0.826306     0.000000      0.560748          0.0  ...   \n",
       "\n",
       "         166Er_p-NFkB  167Er_p-cJun  169Tm_CD45RA  170Er_CD3  174Yb_HLA-DR  \\\n",
       "3249703      0.000000      0.114152      4.010632        0.0           0.0   \n",
       "3196090      0.434590      0.000000      0.000000        0.0           0.0   \n",
       "67638        0.671731      0.000000      0.000000        0.0           0.0   \n",
       "3251092      0.000000      0.000000      3.827497        0.0           0.0   \n",
       "3290766      2.283759      0.000000      1.689329        0.0           0.0   \n",
       "...               ...           ...           ...        ...           ...   \n",
       "6259500      0.332632      0.000000      1.005044        0.0           0.0   \n",
       "6240094      0.668000      0.473148      4.522711        0.0           0.0   \n",
       "3131693      0.000000      0.000000      0.000000        0.0           0.0   \n",
       "3077071      1.110713      0.000000      0.000000        0.0           0.0   \n",
       "6314058      0.669948      0.195551      3.664065        0.0           0.0   \n",
       "\n",
       "         176Yb_CD56  209Bi_CD61  89Y_CD45  id     group  \n",
       "3249703         0.0    5.528366       0.0   0  diseased  \n",
       "3196090         0.0    5.846364       0.0   0  diseased  \n",
       "67638           0.0    5.852854       0.0   0   control  \n",
       "3251092         0.0    5.740776       0.0   0  diseased  \n",
       "3290766         0.0    5.697975       0.0   0  diseased  \n",
       "...             ...         ...       ...  ..       ...  \n",
       "6259500         0.0    5.923002       0.0  19  diseased  \n",
       "6240094         0.0    5.572564       0.0  19  diseased  \n",
       "3131693         0.0    5.766790       0.0  19   control  \n",
       "3077071         0.0    5.824301       0.0  19   control  \n",
       "6314058         0.0    5.713171       0.0  19  diseased  \n",
       "\n",
       "[800000 rows x 24 columns]"
      ]
     },
     "execution_count": 252,
     "metadata": {},
     "output_type": "execute_result"
    }
   ],
   "source": [
    "df"
   ]
  },
  {
   "cell_type": "code",
   "execution_count": 29,
   "metadata": {},
   "outputs": [],
   "source": [
    "df.to_csv(\"ModifiedDATA/scaled_ra2.csv\", index=False)"
   ]
  },
  {
   "cell_type": "code",
   "execution_count": 31,
   "metadata": {},
   "outputs": [
    {
     "data": {
      "text/plain": [
       "array(['control'], dtype=object)"
      ]
     },
     "execution_count": 31,
     "metadata": {},
     "output_type": "execute_result"
    }
   ],
   "source": [
    "df.group.unique()"
   ]
  },
  {
   "cell_type": "markdown",
   "metadata": {},
   "source": [
    "TODO\n",
    "- prepare the 40 patients with the same number of events, and find such maximum item. (unstim)\n",
    "    - phenotyping\n",
    "    - functional\n",
    "    - phenotyping and functional\n",
    "- prepare the 40 patients with the same number of events, and find such maximum item. (stim for later)\n",
    "    - phenotyping\n",
    "    - functional\n",
    "    - phenotyping and functional\n",
    "- scale the values"
   ]
  },
  {
   "cell_type": "code",
   "execution_count": 54,
   "metadata": {},
   "outputs": [],
   "source": [
    "# find the minimum nr of cells in all files"
   ]
  },
  {
   "cell_type": "code",
   "execution_count": 59,
   "metadata": {},
   "outputs": [],
   "source": [
    "minimum_control = float(\"inf\")\n",
    "for file in controls:\n",
    "    f = flowio.flowdata.FlowData(file_path + \"/\" + file)\n",
    "    if f.event_count < minimum_control:\n",
    "        minimum_control = f.event_count"
   ]
  },
  {
   "cell_type": "code",
   "execution_count": 60,
   "metadata": {},
   "outputs": [],
   "source": [
    "minimum_ras = float(\"inf\")\n",
    "for file in ras:\n",
    "    f = flowio.flowdata.FlowData(file_path + \"/\" + file)\n",
    "    if f.event_count < minimum_ras:\n",
    "        minimum_ras = f.event_count"
   ]
  },
  {
   "cell_type": "code",
   "execution_count": 155,
   "metadata": {},
   "outputs": [
    {
     "data": {
      "text/plain": [
       "159736"
      ]
     },
     "execution_count": 155,
     "metadata": {},
     "output_type": "execute_result"
    }
   ],
   "source": [
    "nr_cells"
   ]
  },
  {
   "cell_type": "code",
   "execution_count": 167,
   "metadata": {},
   "outputs": [],
   "source": [
    "#nr_cells = 20000\n",
    "nr_cells = min(minimum_control, minimum_ras) # this gives 3194720 events per group, 6389440 in total for certain datatype.\n",
    "\n",
    "\n"
   ]
  },
  {
   "cell_type": "code",
   "execution_count": null,
   "metadata": {},
   "outputs": [],
   "source": [
    "# max nr cells = 159736, i.e. n = 79868\n",
    "# n = 20 000, this might be too little.\n",
    "# n = 40 000\n",
    "# n = 50 000\n",
    "# n = 75 000 this the maximum we can get.\n",
    "\n",
    "data_shape = {\"ideal_ddloss\" : (n, n),\n",
    "              \"train + dd_test\": (n*0.8, n*0.2), \n",
    "              \"dimred_train + rest\": (n*0.2*0.8, n*0.8**2), \n",
    "              \"model testing\" : (n*0.8**2, n*0.8*0.2), \n",
    "              \"model validation\" : (n*0.8**3, n*0.8**2*0.2) # if k-fold is used, then this is not constant\n",
    "             }"
   ]
  },
  {
   "cell_type": "markdown",
   "metadata": {},
   "source": [
    "### Notes\n",
    "- possible issues with such large data set?\n",
    "    - need large models, takes longer to train\n",
    "    - takes time with dimensionality reduction\n",
    "- Advantage:\n",
    "    - can train better models, and avoid variance in the model\n",
    "- comparison:\n",
    "    - MNIST is 21 MB sized file\n",
    "    - Extended MNIST is 535 MB\n",
    "    - Kuzushiji MNIST is 31 MB\n",
    "    - BINARIZED MNIST is 104 MB\n",
    "- To try, nr_cells per patient\n",
    "    - 20 000\n",
    "    - 50 000\n",
    "    - 100 000\n",
    "    - 150 000"
   ]
  },
  {
   "cell_type": "code",
   "execution_count": 236,
   "metadata": {},
   "outputs": [
    {
     "name": "stdout",
     "output_type": "stream",
     "text": [
      "CPU times: user 3min 8s, sys: 18.5 s, total: 3min 26s\n",
      "Wall time: 3min 29s\n"
     ]
    }
   ],
   "source": [
    "%%time\n",
    "#df_cp = get_patients(unstim_control, nr_cells, file_path, phenotyping, \"control\", \"KTR\") \n",
    "#df_rp = get_patients(unstim_ras, nr_cells, file_path, phenotyping, \"diseased\", \"RA\")\n",
    "\n",
    "#df_cf = get_patients(unstim_control, nr_cells, file_path, functional, \"control\", \"KTR\")\n",
    "#df_rf = get_patients(unstim_ras, nr_cells, file_path, functional, \"diseased\", \"RA\")\n",
    "\n",
    "df_cpf = get_patients(unstim_control, nr_cells, file_path, phenotyping + functional, \"control\", \"KTR\")\n",
    "df_rpf = get_patients(unstim_ras, nr_cells, file_path, phenotyping + functional, \"diseased\", \"RA\")\n"
   ]
  },
  {
   "cell_type": "code",
   "execution_count": 258,
   "metadata": {},
   "outputs": [
    {
     "data": {
      "text/plain": [
       "array(['control', 'diseased'], dtype=object)"
      ]
     },
     "execution_count": 258,
     "metadata": {},
     "output_type": "execute_result"
    }
   ],
   "source": [
    "df_pf.group.unique()"
   ]
  },
  {
   "cell_type": "code",
   "execution_count": 240,
   "metadata": {},
   "outputs": [],
   "source": [
    "#df_p = df_cp.append(df_rp)\n",
    "#df_f = df_cf.append(df_rf)\n",
    "df_pf = df_cpf.append(df_rpf, ignore_index=True)\n"
   ]
  },
  {
   "cell_type": "code",
   "execution_count": 241,
   "metadata": {},
   "outputs": [],
   "source": [
    "#df_p = scale_df(df_p)\n",
    "#df_f = scale_df(df_f)\n",
    "df_pf = scale_df(df_pf)\n"
   ]
  },
  {
   "cell_type": "code",
   "execution_count": 255,
   "metadata": {},
   "outputs": [],
   "source": [
    "#df_p.to_csv(\"ModifiedDATA/RA/Scaled/unstim_pheno.csv\", index=False)\n",
    "#df_f.to_csv(\"ModifiedDATA/RA/Scaled/unstim_func.csv\", index=False)\n",
    "df_pf.to_csv(\"ModifiedDATA/RA/Scaled/unstim_phenofunc.csv\", index=False)\n"
   ]
  },
  {
   "cell_type": "markdown",
   "metadata": {},
   "source": [
    "### TODO\n",
    "- split the data\n",
    "    - sample 40000 per patient\n",
    "    - pheno / func\n",
    "    - train, val, test1, test2, Ideal"
   ]
  },
  {
   "cell_type": "code",
   "execution_count": 205,
   "metadata": {},
   "outputs": [],
   "source": [
    "from sklearn.model_selection import train_test_split"
   ]
  },
  {
   "cell_type": "code",
   "execution_count": 243,
   "metadata": {},
   "outputs": [],
   "source": [
    "n1, n2 = train_test_split(df_cpf, test_size=0.5, random_state=42, stratify=df_cpf['id'])"
   ]
  },
  {
   "cell_type": "code",
   "execution_count": 244,
   "metadata": {},
   "outputs": [
    {
     "data": {
      "text/html": [
       "<div>\n",
       "<style scoped>\n",
       "    .dataframe tbody tr th:only-of-type {\n",
       "        vertical-align: middle;\n",
       "    }\n",
       "\n",
       "    .dataframe tbody tr th {\n",
       "        vertical-align: top;\n",
       "    }\n",
       "\n",
       "    .dataframe thead th {\n",
       "        text-align: right;\n",
       "    }\n",
       "</style>\n",
       "<table border=\"1\" class=\"dataframe\">\n",
       "  <thead>\n",
       "    <tr style=\"text-align: right;\">\n",
       "      <th></th>\n",
       "      <th>147Sm_CD20</th>\n",
       "      <th>170Er_CD3</th>\n",
       "      <th>89Y_CD45</th>\n",
       "      <th>145Nd_CD4</th>\n",
       "      <th>169Tm_CD45RA</th>\n",
       "      <th>146Nd_CD8a</th>\n",
       "      <th>176Yb_CD56</th>\n",
       "      <th>148Nd_CD16</th>\n",
       "      <th>160Gd_CD14</th>\n",
       "      <th>209Bi_CD61</th>\n",
       "      <th>...</th>\n",
       "      <th>150Nd_CD86</th>\n",
       "      <th>156Gd_p-p38</th>\n",
       "      <th>152Sm_p-Akt</th>\n",
       "      <th>167Er_p-cJun</th>\n",
       "      <th>166Er_p-NFkB</th>\n",
       "      <th>164Dy_IkBa</th>\n",
       "      <th>155Gd_CD120a</th>\n",
       "      <th>165Ho_CD120b</th>\n",
       "      <th>id</th>\n",
       "      <th>group</th>\n",
       "    </tr>\n",
       "  </thead>\n",
       "  <tbody>\n",
       "    <tr>\n",
       "      <th>2359342</th>\n",
       "      <td>0.000</td>\n",
       "      <td>0.0</td>\n",
       "      <td>0.0</td>\n",
       "      <td>0.00000</td>\n",
       "      <td>357.369995</td>\n",
       "      <td>0.0</td>\n",
       "      <td>0.0</td>\n",
       "      <td>0.0</td>\n",
       "      <td>0.0</td>\n",
       "      <td>710.083984</td>\n",
       "      <td>...</td>\n",
       "      <td>0.0</td>\n",
       "      <td>0.0</td>\n",
       "      <td>0.0</td>\n",
       "      <td>1.687</td>\n",
       "      <td>2.752</td>\n",
       "      <td>0.0</td>\n",
       "      <td>0.700</td>\n",
       "      <td>9.730000</td>\n",
       "      <td>14</td>\n",
       "      <td>control</td>\n",
       "    </tr>\n",
       "    <tr>\n",
       "      <th>1612764</th>\n",
       "      <td>0.962</td>\n",
       "      <td>0.0</td>\n",
       "      <td>0.0</td>\n",
       "      <td>261.86499</td>\n",
       "      <td>200.054001</td>\n",
       "      <td>0.0</td>\n",
       "      <td>0.0</td>\n",
       "      <td>0.0</td>\n",
       "      <td>0.0</td>\n",
       "      <td>700.236023</td>\n",
       "      <td>...</td>\n",
       "      <td>0.0</td>\n",
       "      <td>0.0</td>\n",
       "      <td>0.0</td>\n",
       "      <td>0.216</td>\n",
       "      <td>2.876</td>\n",
       "      <td>0.0</td>\n",
       "      <td>4.294</td>\n",
       "      <td>28.261999</td>\n",
       "      <td>10</td>\n",
       "      <td>control</td>\n",
       "    </tr>\n",
       "  </tbody>\n",
       "</table>\n",
       "<p>2 rows × 24 columns</p>\n",
       "</div>"
      ],
      "text/plain": [
       "         147Sm_CD20  170Er_CD3  89Y_CD45  145Nd_CD4  169Tm_CD45RA  146Nd_CD8a  \\\n",
       "2359342       0.000        0.0       0.0    0.00000    357.369995         0.0   \n",
       "1612764       0.962        0.0       0.0  261.86499    200.054001         0.0   \n",
       "\n",
       "         176Yb_CD56  148Nd_CD16  160Gd_CD14  209Bi_CD61  ...  150Nd_CD86  \\\n",
       "2359342         0.0         0.0         0.0  710.083984  ...         0.0   \n",
       "1612764         0.0         0.0         0.0  700.236023  ...         0.0   \n",
       "\n",
       "         156Gd_p-p38  152Sm_p-Akt  167Er_p-cJun  166Er_p-NFkB  164Dy_IkBa  \\\n",
       "2359342          0.0          0.0         1.687         2.752         0.0   \n",
       "1612764          0.0          0.0         0.216         2.876         0.0   \n",
       "\n",
       "         155Gd_CD120a  165Ho_CD120b  id    group  \n",
       "2359342         0.700      9.730000  14  control  \n",
       "1612764         4.294     28.261999  10  control  \n",
       "\n",
       "[2 rows x 24 columns]"
      ]
     },
     "execution_count": 244,
     "metadata": {},
     "output_type": "execute_result"
    }
   ],
   "source": [
    "df_cpf.loc[n1.index[:2]]"
   ]
  },
  {
   "cell_type": "code",
   "execution_count": 247,
   "metadata": {},
   "outputs": [
    {
     "name": "stdout",
     "output_type": "stream",
     "text": [
      "CPU times: user 14.8 s, sys: 1.92 s, total: 16.8 s\n",
      "Wall time: 16.9 s\n"
     ]
    }
   ],
   "source": [
    "%%time\n",
    "\n",
    "# Load data\n",
    "\n",
    "df_pf = pd.read_csv(\"ModifiedDATA/RA/Scaled/unstim_phenofunc.csv\")\n",
    "\n",
    "# subsample data\n",
    "\n",
    "SUBSAMPLE_SIZE = 40000 # nr_cells per patient\n",
    "\n",
    "df = df_pf.groupby('id', group_keys=False).sample(n=SUBSAMPLE_SIZE, replace=False, random_state=2)\n",
    "\n",
    "\n",
    "# split size\n",
    "\n",
    "RANDOM_SEED = 42\n",
    "\n",
    "train_dd, test_dd = train_test_split(df, test_size=0.2, random_state=RANDOM_SEED, stratify=df['id'])\n",
    "\n",
    "trian_m , test = train_test_split(train_dd, test_size=0.2, random_state=RANDOM_SEED, stratify=train_dd['id'])\n",
    "\n",
    "train, val = train_test_split(trian_m, test_size=0.2, random_state=RANDOM_SEED, stratify=trian_m['id'])\n",
    "\n",
    "data = { \"train\": train,\n",
    "         \"val\": val,\n",
    "         \"test\": test,\n",
    "         \"test_dd\":test_dd\n",
    "       }\n",
    "\n",
    "# use val + test for training dim_red\n",
    "# use train + val for model selection based on density estimation\n",
    "# use test for model selection based of dd-loss\n",
    "# use test_dd for estimating the double date loss for the \"ideal model\".\n",
    "\n",
    "# get the markers\n",
    "\n",
    "functional_columns = list(filter((lambda x : any([i in x for i in functional])), df_pf.columns))\n",
    "phenotyping_columns = list(filter((lambda x : any([i in x for i in phenotyping])), df_pf.columns))\n",
    "labels = [\"id\", \"group\"]\n",
    "\n",
    "#df_p = data[\"train\"][phenotyping_columns + labels]\n",
    "#df_f = data[\"train\"][funcitonal_columns + labels]\n",
    "\n"
   ]
  },
  {
   "cell_type": "code",
   "execution_count": null,
   "metadata": {},
   "outputs": [],
   "source": []
  }
 ],
 "metadata": {
  "kernelspec": {
   "display_name": "Python 3",
   "language": "python",
   "name": "python3"
  },
  "language_info": {
   "codemirror_mode": {
    "name": "ipython",
    "version": 3
   },
   "file_extension": ".py",
   "mimetype": "text/x-python",
   "name": "python",
   "nbconvert_exporter": "python",
   "pygments_lexer": "ipython3",
   "version": "3.7.4"
  }
 },
 "nbformat": 4,
 "nbformat_minor": 2
}
