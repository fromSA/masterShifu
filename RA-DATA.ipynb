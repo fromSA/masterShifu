{
 "cells": [
  {
   "cell_type": "code",
   "execution_count": 2,
   "metadata": {},
   "outputs": [],
   "source": [
    "import flowio\n",
    "import numpy as np\n",
    "import pandas as pd"
   ]
  },
  {
   "cell_type": "code",
   "execution_count": 4,
   "metadata": {},
   "outputs": [],
   "source": [
    "import os"
   ]
  },
  {
   "cell_type": "code",
   "execution_count": 5,
   "metadata": {},
   "outputs": [],
   "source": [
    "file_path = 'OriginalDATA/FlowRepository_FR-FCM-Z24N_files'\n",
    "files = os.listdir(file_path)"
   ]
  },
  {
   "cell_type": "code",
   "execution_count": 6,
   "metadata": {},
   "outputs": [],
   "source": [
    "files.sort()"
   ]
  },
  {
   "cell_type": "code",
   "execution_count": 7,
   "metadata": {},
   "outputs": [],
   "source": [
    "controls = [f for f in files if \"KTR\" in f]"
   ]
  },
  {
   "cell_type": "code",
   "execution_count": 94,
   "metadata": {},
   "outputs": [],
   "source": [
    "unstim_control = [f for f in controls if 'unstim' in f]\n",
    "stim_control = [f for f in controls if ' stim' in f]"
   ]
  },
  {
   "cell_type": "code",
   "execution_count": 107,
   "metadata": {},
   "outputs": [],
   "source": [
    "ras = [f for f in files if \"RA\" in f]"
   ]
  },
  {
   "cell_type": "code",
   "execution_count": 90,
   "metadata": {},
   "outputs": [],
   "source": [
    "unstim_ras = [f for f in ras if \"unstim\" in f]\n",
    "stim_ras = [f for f in ras if \" stim\" in f]"
   ]
  },
  {
   "cell_type": "code",
   "execution_count": 10,
   "metadata": {},
   "outputs": [],
   "source": [
    "p = \"OriginalDATA/FlowRepository_FR-FCM-Z24N_files/10_A_KTR-019 stim_Ungated.fcs\"\n",
    "p2 = \"OriginalDATA/FlowRepository_FR-FCM-Z24N_files/11_D_RA-091 unstim_Time.fcs\""
   ]
  },
  {
   "cell_type": "code",
   "execution_count": 109,
   "metadata": {},
   "outputs": [],
   "source": [
    "import re"
   ]
  },
  {
   "cell_type": "code",
   "execution_count": 119,
   "metadata": {},
   "outputs": [
    {
     "data": {
      "text/plain": [
       "['RA-072']"
      ]
     },
     "execution_count": 119,
     "metadata": {},
     "output_type": "execute_result"
    }
   ],
   "source": [
    "re.findall(\"(RA-[0-9]+)\", ras[0])"
   ]
  },
  {
   "cell_type": "code",
   "execution_count": 150,
   "metadata": {},
   "outputs": [
    {
     "data": {
      "text/plain": [
       "['1_A_KTR-029 unstim_Ungated.fcs',\n",
       " '1_B_KTR-017 unstim_Time.fcs',\n",
       " '1_C_KTR-020 unstim_Time.fcs',\n",
       " '1_D_KTR-006 unstim_Time.fcs',\n",
       " '3_A_KTR-024 unstim_Ungated.fcs',\n",
       " '3_B_KTR-003 unstim_Time.fcs',\n",
       " '3_C_KTR-014 unstim_Time.fcs',\n",
       " '3_D_KTR-004 unstim_Time.fcs',\n",
       " '5_A_KTR-015 unstim_Ungated.fcs',\n",
       " '5_B_KTR-021 unstim_Time.fcs',\n",
       " '5_C_KTR-007 unstim_Time.fcs',\n",
       " '5_D_KTR-028 unstim_Time.fcs',\n",
       " '7_A_KTR-023 unstim_Ungated.fcs',\n",
       " '7_B_KTR-022 unstim_Time.fcs',\n",
       " '7_C_KTR-025 unstim_Time.fcs',\n",
       " '7_D_KTR-030 unstim_Time.fcs',\n",
       " '9_A_KTR-019 unstim_Ungated.fcs',\n",
       " '9_B_KTR-016 unstim_Time.fcs',\n",
       " '9_C_KTR-018 unstim_Time.fcs',\n",
       " '9_D_KTR-008 unstim_Time.fcs']"
      ]
     },
     "execution_count": 150,
     "metadata": {},
     "output_type": "execute_result"
    }
   ],
   "source": [
    "unstim_control"
   ]
  },
  {
   "cell_type": "markdown",
   "metadata": {},
   "source": [
    "### TODO\n",
    "- get a list of the channels that I want with their channel number\n",
    "- from the pandas get this channels\n",
    "- name the channels appropriately"
   ]
  },
  {
   "cell_type": "markdown",
   "metadata": {},
   "source": [
    "### Note\n",
    "- Cannot find functional marker p-Erk"
   ]
  },
  {
   "cell_type": "markdown",
   "metadata": {},
   "source": [
    "# RA-data description\n",
    "\n",
    "Mass cytometry (CyTOF)\n",
    "1. panel of 12 phenotyping and 10 functional markers\n",
    "2. signaling in unstimulated and TNF-stimulated peripheral blood mononulear cells\n",
    "3. from 20 newly diagnosed, untreated RA patients\n",
    "4. 20 healthy donors.\n",
    "\n",
    "1. unstim = unstimulated with tumor necrosis factor (TNF) (TNF inhibitors effectively repress inflammatory activity in RA)\n",
    "2. stim = stimulated with TNF\n",
    "3. ungated = manual removal of events representing \n",
    "\n",
    "## The RA paper:\n",
    "The objective of this study was to identify markers in immune cell populations that distinguish RA patients from healthy donors with an emphasis on TNF signaling\n",
    "\n",
    "We employed mass cytometry (CyTOF) with a panel of 13 phenotyping and 10 functional markers to explore signaling in unstimulated and TNF-stimulated peripheral blood mononuclear cells from 20 newly diagnosed, untreated RA patients and 20 healthy donors."
   ]
  },
  {
   "cell_type": "markdown",
   "metadata": {},
   "source": [
    "1. intracellular functional markers\n",
    "2. surface phenotypic markers "
   ]
  },
  {
   "cell_type": "markdown",
   "metadata": {},
   "source": [
    "problem:\n",
    "- want to collect more cells for each patient\n",
    "    - don't know what file belongs to each patient\n",
    "    - don't know which of the data is preprosessed or not\n",
    "- want to use more markers <b style=\"color:green\"> DONE </b> \n",
    "    - don't know how to get the other markers \n",
    "    - don't know which markers are phenotypical and which are functional\n",
    "    "
   ]
  },
  {
   "cell_type": "code",
   "execution_count": 136,
   "metadata": {},
   "outputs": [],
   "source": [
    "def get_events(file, markers, nr_events):\n",
    "    f = flowio.flowdata.FlowData(file)\n",
    "    marker_channels = dict()\n",
    "    for j in markers:\n",
    "        for k in f.channels.keys():\n",
    "            if (j in f.channels[k]['PnS']):\n",
    "                marker_channels[int(k)] = f.channels[k]['PnS']\n",
    "    \n",
    "    npy_data = np.reshape(f.events, (-1, f.channel_count))[:nr_events,:]\n",
    "    df = pd.DataFrame(npy_data)\n",
    "    df2 = df.rename(columns=marker_channels)\n",
    "    return df2[list(marker_channels.values())]"
   ]
  },
  {
   "cell_type": "code",
   "execution_count": 79,
   "metadata": {},
   "outputs": [],
   "source": [
    "# Taken from the paper\n",
    "phenotyping = ['CD20','CD3','CD4','CD8a','CD45RA', 'CD56', 'CD56', \n",
    "               'CD16', 'CD14', 'CD61', 'CD11c','CD123', 'HLA-DR', 'CD45']\n",
    "\n",
    "functional = ['Caspase3', 'CD86','p-p38','p-Erk','p-Akt','p-cJun','p-NFkB','IkBa','CD120a','CD120b']"
   ]
  },
  {
   "cell_type": "code",
   "execution_count": null,
   "metadata": {},
   "outputs": [],
   "source": [
    "# choose files\n",
    "# choose nr of cells per patient\n",
    "# concatenate all files into one df\n",
    "# save the file\n",
    "# write about the data"
   ]
  },
  {
   "cell_type": "code",
   "execution_count": null,
   "metadata": {},
   "outputs": [],
   "source": [
    "\"{id_ket}\""
   ]
  },
  {
   "cell_type": "code",
   "execution_count": 104,
   "metadata": {},
   "outputs": [],
   "source": [
    "nr_cells = 20000"
   ]
  },
  {
   "cell_type": "code",
   "execution_count": 151,
   "metadata": {},
   "outputs": [],
   "source": [
    "def get_patients(group_files, nr_cells, file_path, markers, group_name, id_key):\n",
    "    all_df = None\n",
    "    for i, file in enumerate(group_files):\n",
    "        path = file_path + \"/\" + file\n",
    "        df = get_events(path, markers, nr_cells)\n",
    "        key = \"({}-[0-9]+)\".format(id_key)\n",
    "        df[\"id\"] = i #re.findall(key, file)[0]\n",
    "        if i == 0:\n",
    "            all_df = df\n",
    "        else:\n",
    "            all_df = all_df.append(df)\n",
    "    all_df[\"group\"]=group_name\n",
    "    return all_df"
   ]
  },
  {
   "cell_type": "code",
   "execution_count": 154,
   "metadata": {},
   "outputs": [],
   "source": [
    "df = get_patients(unstim_control, 100, file_path, phenotyping, \"control\", \"KTR\")"
   ]
  },
  {
   "cell_type": "code",
   "execution_count": 155,
   "metadata": {},
   "outputs": [
    {
     "data": {
      "text/plain": [
       "array([ 0,  1,  2,  3,  4,  5,  6,  7,  8,  9, 10, 11, 12, 13, 14, 15, 16,\n",
       "       17, 18, 19])"
      ]
     },
     "execution_count": 155,
     "metadata": {},
     "output_type": "execute_result"
    }
   ],
   "source": [
    "np.unique(df.id.values)"
   ]
  },
  {
   "cell_type": "code",
   "execution_count": 158,
   "metadata": {},
   "outputs": [
    {
     "data": {
      "text/plain": [
       "Index(['147Sm_CD20', '170Er_CD3', '89Y_CD45', '145Nd_CD4', '169Tm_CD45RA',\n",
       "       '146Nd_CD8a', '176Yb_CD56', '148Nd_CD16', '160Gd_CD14', '209Bi_CD61',\n",
       "       '159Tb_CD11c', '151Eu_CD123', '174Yb_HLA-DR', 'id', 'group'],\n",
       "      dtype='object')"
      ]
     },
     "execution_count": 158,
     "metadata": {},
     "output_type": "execute_result"
    }
   ],
   "source": [
    "df.columns"
   ]
  },
  {
   "cell_type": "code",
   "execution_count": null,
   "metadata": {},
   "outputs": [],
   "source": []
  }
 ],
 "metadata": {
  "kernelspec": {
   "display_name": "Python 3",
   "language": "python",
   "name": "python3"
  },
  "language_info": {
   "codemirror_mode": {
    "name": "ipython",
    "version": 3
   },
   "file_extension": ".py",
   "mimetype": "text/x-python",
   "name": "python",
   "nbconvert_exporter": "python",
   "pygments_lexer": "ipython3",
   "version": "3.7.4"
  }
 },
 "nbformat": 4,
 "nbformat_minor": 2
}
