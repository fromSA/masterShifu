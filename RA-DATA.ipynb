{
 "cells": [
  {
   "cell_type": "code",
   "execution_count": 3,
   "metadata": {},
   "outputs": [
    {
     "name": "stdout",
     "output_type": "stream",
     "text": [
      "Requirement already satisfied: flowio in /usr/local/lib/python3.7/site-packages (0.9.8)\n",
      "\u001b[33mWARNING: You are using pip version 20.2.4; however, version 20.3.3 is available.\n",
      "You should consider upgrading via the '/usr/local/opt/python/bin/python3.7 -m pip install --upgrade pip' command.\u001b[0m\n"
     ]
    }
   ],
   "source": [
    "!pip install flowio --user"
   ]
  },
  {
   "cell_type": "code",
   "execution_count": 18,
   "metadata": {},
   "outputs": [],
   "source": [
    "import flowio\n",
    "import numpy as np"
   ]
  },
  {
   "cell_type": "code",
   "execution_count": 15,
   "metadata": {},
   "outputs": [
    {
     "name": "stdout",
     "output_type": "stream",
     "text": [
      "Help on class FlowData in module flowio.flowdata:\n",
      "\n",
      "class FlowData(builtins.object)\n",
      " |  FlowData(filename)\n",
      " |  \n",
      " |  Object representing a Flow Cytometry Standard (FCS) file\n",
      " |  \n",
      " |  Methods defined here:\n",
      " |  \n",
      " |  __init__(self, filename)\n",
      " |      filename: an FCS filename\n",
      " |  \n",
      " |  __repr__(self)\n",
      " |      Return repr(self).\n",
      " |  \n",
      " |  write_fcs(self, filename, extra=None, extra_non_standard=None)\n",
      " |  \n",
      " |  ----------------------------------------------------------------------\n",
      " |  Data descriptors defined here:\n",
      " |  \n",
      " |  __dict__\n",
      " |      dictionary for instance variables (if defined)\n",
      " |  \n",
      " |  __weakref__\n",
      " |      list of weak references to the object (if defined)\n",
      "\n"
     ]
    }
   ],
   "source": [
    "help(flowio.flowdata.FlowData)"
   ]
  },
  {
   "cell_type": "code",
   "execution_count": 9,
   "metadata": {},
   "outputs": [],
   "source": [
    "f = flowio.flowdata.FlowData()"
   ]
  },
  {
   "cell_type": "code",
   "execution_count": 26,
   "metadata": {
    "scrolled": false
   },
   "outputs": [],
   "source": [
    "import fcsparser"
   ]
  },
  {
   "cell_type": "code",
   "execution_count": 32,
   "metadata": {},
   "outputs": [
    {
     "name": "stdout",
     "output_type": "stream",
     "text": [
      "Help on function parse in module fcsparser.api:\n",
      "\n",
      "parse(path, meta_data_only=False, compensate=False, channel_naming='$PnS', reformat_meta=False, data_set=0, dtype='float32', encoding='utf-8')\n",
      "    Parse an fcs file at the location specified by the path.\n",
      "    \n",
      "    Parameters\n",
      "    ----------\n",
      "    path: str\n",
      "        Path of .fcs file\n",
      "    meta_data_only: bool\n",
      "        If True, the parse_fcs only returns the meta_data (the TEXT segment of the FCS file)\n",
      "    output_format: 'DataFrame' | 'ndarray'\n",
      "        If set to 'DataFrame' the returned\n",
      "    channel_naming: '$PnS' | '$PnN'\n",
      "        Determines which meta data field is used for naming the channels.\n",
      "        The default should be $PnS (even though it is not guaranteed to be unique)\n",
      "    \n",
      "        $PnN stands for the short name (guaranteed to be unique).\n",
      "            Will look like 'FL1-H'\n",
      "        $PnS stands for the actual name (not guaranteed to be unique).\n",
      "            Will look like 'FSC-H' (Forward scatter)\n",
      "    \n",
      "        The chosen field will be used to population self.channels\n",
      "    \n",
      "        Note: These names are not flipped in the implementation.\n",
      "        It looks like they were swapped for some reason in the official FCS specification.\n",
      "    reformat_meta: bool\n",
      "        If true, the meta data is reformatted with the channel information organized\n",
      "        into a DataFrame and moved into the '_channels_' key\n",
      "    data_set: int\n",
      "        Index of retrieved data set in the fcs file.\n",
      "        This value specifies the data set being retrieved from an fcs file with multiple data sets.\n",
      "    dtype: str | None\n",
      "        If provided, will force convert all data into this dtype.\n",
      "        This is set by default to auto-convert to float32 to deal with cases in which the original\n",
      "        data has been stored using a smaller data type (e.g., unit8). This modifies the original\n",
      "        data, but should make follow up analysis safer in basically all cases.\n",
      "    encoding: str\n",
      "        Provide encoding type of the text section.\n",
      "    \n",
      "    \n",
      "    Returns\n",
      "    -------\n",
      "    if meta_data_only is True:\n",
      "        meta_data: dict\n",
      "            Contains a dictionary with the meta data information\n",
      "    Otherwise:\n",
      "        a 2-tuple with\n",
      "            the first element the meta_data (dictionary)\n",
      "            the second element the data (in either DataFrame or numpy format)\n",
      "    \n",
      "    Examples\n",
      "    --------\n",
      "    fname = '../tests/data/EY_2013-05-03_EID_214_PID_1120_Piperacillin_Well_B7.001.fcs'\n",
      "    meta = parse_fcs(fname, meta_data_only=True)\n",
      "    meta, data_pandas = parse_fcs(fname, meta_data_only=False)\n",
      "\n"
     ]
    }
   ],
   "source": [
    "help(fcsparser.api.parse)"
   ]
  },
  {
   "cell_type": "code",
   "execution_count": 62,
   "metadata": {},
   "outputs": [],
   "source": [
    "import os"
   ]
  },
  {
   "cell_type": "code",
   "execution_count": 64,
   "metadata": {},
   "outputs": [],
   "source": [
    "file_path = 'OriginalDATA/FlowRepository_FR-FCM-Z24N_files'\n",
    "files = os.listdir(file_path)"
   ]
  },
  {
   "cell_type": "code",
   "execution_count": 67,
   "metadata": {},
   "outputs": [],
   "source": [
    "files.sort()"
   ]
  },
  {
   "cell_type": "code",
   "execution_count": 69,
   "metadata": {},
   "outputs": [],
   "source": [
    "controls = [f for f in files if \"KTR\" in f]"
   ]
  },
  {
   "cell_type": "code",
   "execution_count": 73,
   "metadata": {},
   "outputs": [
    {
     "data": {
      "text/plain": [
       "['10_A_KTR-019 stim_Ungated.fcs',\n",
       " '10_B_KTR-016 stim_Time.fcs',\n",
       " '10_C_KTR-018 stim_Time.fcs',\n",
       " '10_D_KTR-008 stim_Time.fcs',\n",
       " '1_A_KTR-029 unstim_Ungated.fcs',\n",
       " '1_B_KTR-017 unstim_Time.fcs',\n",
       " '1_C_KTR-020 unstim_Time.fcs',\n",
       " '1_D_KTR-006 unstim_Time.fcs',\n",
       " '2_A_KTR-029 stim_Ungated.fcs',\n",
       " '2_B_KTR-017 stim_Time.fcs',\n",
       " '2_C_KTR-020 stim_Time.fcs',\n",
       " '2_D_KTR-006 stim_Time.fcs',\n",
       " '3_A_KTR-024 unstim_Ungated.fcs',\n",
       " '3_B_KTR-003 unstim_Time.fcs',\n",
       " '3_C_KTR-014 unstim_Time.fcs',\n",
       " '3_D_KTR-004 unstim_Time.fcs',\n",
       " '4_A_KTR-024 stim_Ungated.fcs',\n",
       " '4_B_KTR-003 stim_Time.fcs',\n",
       " '4_C_KTR-014 stim_Time.fcs',\n",
       " '4_D_KTR-004 stim_Time.fcs',\n",
       " '5_A_KTR-015 unstim_Ungated.fcs',\n",
       " '5_B_KTR-021 unstim_Time.fcs',\n",
       " '5_C_KTR-007 unstim_Time.fcs',\n",
       " '5_D_KTR-028 unstim_Time.fcs',\n",
       " '6_A_KTR-015 stim_Ungated.fcs',\n",
       " '6_B_KTR-021 stim_Time.fcs',\n",
       " '6_C_KTR-007 stim_Time.fcs',\n",
       " '6_D_KTR-028 stim_Time.fcs',\n",
       " '7_A_KTR-023 unstim_Ungated.fcs',\n",
       " '7_B_KTR-022 unstim_Time.fcs',\n",
       " '7_C_KTR-025 unstim_Time.fcs',\n",
       " '7_D_KTR-030 unstim_Time.fcs',\n",
       " '8_A_KTR-023 stim_Ungated.fcs',\n",
       " '8_B_KTR-022 stim_Time.fcs',\n",
       " '8_C_KTR-025 stim_Time.fcs',\n",
       " '8_D_KTR-030 stim_Time.fcs',\n",
       " '9_A_KTR-019 unstim_Ungated.fcs',\n",
       " '9_B_KTR-016 unstim_Time.fcs',\n",
       " '9_C_KTR-018 unstim_Time.fcs',\n",
       " '9_D_KTR-008 unstim_Time.fcs']"
      ]
     },
     "execution_count": 73,
     "metadata": {},
     "output_type": "execute_result"
    }
   ],
   "source": [
    "controls"
   ]
  },
  {
   "cell_type": "code",
   "execution_count": 71,
   "metadata": {},
   "outputs": [],
   "source": [
    "ras = [f for f in files if \"RA\" in f]"
   ]
  },
  {
   "cell_type": "code",
   "execution_count": 74,
   "metadata": {},
   "outputs": [
    {
     "data": {
      "text/plain": [
       "['11_A_RA-072 unstim_Ungated.fcs',\n",
       " '11_B_RA-024 unstim_Time.fcs',\n",
       " '11_C_RA-087 unstim_Time.fcs',\n",
       " '11_D_RA-091 unstim_Time.fcs',\n",
       " '12_A_RA-072 stim_Ungated.fcs',\n",
       " '12_B_RA-024 stim_Time.fcs',\n",
       " '12_C_RA-087 stim_Time.fcs',\n",
       " '12_D_RA-091 stim_Time.fcs',\n",
       " '13_A_RA-043 unstim_Ungated.fcs',\n",
       " '13_B_RA-021 unstim_Time.fcs',\n",
       " '13_C_RA-099 unstim_Time.fcs',\n",
       " '13_D_RA-031 unstim_Time.fcs',\n",
       " '14_A_RA-043 stim_Ungated.fcs',\n",
       " '14_B_RA-021 stim_Time.fcs',\n",
       " '14_C_RA-099 stim_Time.fcs',\n",
       " '14_D_RA-031 stim_Time.fcs',\n",
       " '15_A_RA-038 unstim_Ungated.fcs',\n",
       " '15_B_RA-034 unstim_Time.fcs',\n",
       " '15_C_RA-063 unstim_Time.fcs',\n",
       " '15_D_RA-095 unstim_Time.fcs',\n",
       " '16_A_RA-038 stim_Ungated.fcs',\n",
       " '16_B_RA-034 stim_Time.fcs',\n",
       " '16_C_RA-063 stim_Time.fcs',\n",
       " '16_D_RA-095 stim_Time.fcs',\n",
       " '17_A_RA-046 unstim_Ungated.fcs',\n",
       " '17_B_RA-064 unstim_Time.fcs',\n",
       " '17_C_RA-101 unstim_Time.fcs',\n",
       " '17_D_RA-097 unstim_Time.fcs',\n",
       " '18_A_RA-046 stim_Ungated.fcs',\n",
       " '18_B_RA-064 stim_Time.fcs',\n",
       " '18_C_RA-101 stim_Time.fcs',\n",
       " '18_D_RA-097 stim_Time.fcs',\n",
       " '19_A_RA-070 unstim_Ungated.fcs',\n",
       " '19_B_RA-092 unstim_Time.fcs',\n",
       " '19_C_RA-040 unstim_Time.fcs',\n",
       " '19_D_RA-057 unstim_Time.fcs',\n",
       " '20_A_RA-070 stim_Ungated.fcs',\n",
       " '20_B_RA-092 stim_Time.fcs',\n",
       " '20_C_RA-040 stim_Time.fcs',\n",
       " '20_D_RA-057 stim_Time.fcs']"
      ]
     },
     "execution_count": 74,
     "metadata": {},
     "output_type": "execute_result"
    }
   ],
   "source": [
    "ras"
   ]
  },
  {
   "cell_type": "code",
   "execution_count": 90,
   "metadata": {},
   "outputs": [],
   "source": [
    "unstim_ras = [f for f in ras if \"unstim\" in f]"
   ]
  },
  {
   "cell_type": "code",
   "execution_count": 91,
   "metadata": {},
   "outputs": [
    {
     "data": {
      "text/plain": [
       "['11_A_RA-072 unstim_Ungated.fcs',\n",
       " '11_B_RA-024 unstim_Time.fcs',\n",
       " '11_C_RA-087 unstim_Time.fcs',\n",
       " '11_D_RA-091 unstim_Time.fcs',\n",
       " '13_A_RA-043 unstim_Ungated.fcs',\n",
       " '13_B_RA-021 unstim_Time.fcs',\n",
       " '13_C_RA-099 unstim_Time.fcs',\n",
       " '13_D_RA-031 unstim_Time.fcs',\n",
       " '15_A_RA-038 unstim_Ungated.fcs',\n",
       " '15_B_RA-034 unstim_Time.fcs',\n",
       " '15_C_RA-063 unstim_Time.fcs',\n",
       " '15_D_RA-095 unstim_Time.fcs',\n",
       " '17_A_RA-046 unstim_Ungated.fcs',\n",
       " '17_B_RA-064 unstim_Time.fcs',\n",
       " '17_C_RA-101 unstim_Time.fcs',\n",
       " '17_D_RA-097 unstim_Time.fcs',\n",
       " '19_A_RA-070 unstim_Ungated.fcs',\n",
       " '19_B_RA-092 unstim_Time.fcs',\n",
       " '19_C_RA-040 unstim_Time.fcs',\n",
       " '19_D_RA-057 unstim_Time.fcs']"
      ]
     },
     "execution_count": 91,
     "metadata": {},
     "output_type": "execute_result"
    }
   ],
   "source": [
    "unstim_ras"
   ]
  },
  {
   "cell_type": "code",
   "execution_count": 93,
   "metadata": {},
   "outputs": [],
   "source": [
    "stim_ras = [f for f in ras if \" stim\" in f]"
   ]
  },
  {
   "cell_type": "code",
   "execution_count": 94,
   "metadata": {},
   "outputs": [
    {
     "data": {
      "text/plain": [
       "['12_A_RA-072 stim_Ungated.fcs',\n",
       " '12_B_RA-024 stim_Time.fcs',\n",
       " '12_C_RA-087 stim_Time.fcs',\n",
       " '12_D_RA-091 stim_Time.fcs',\n",
       " '14_A_RA-043 stim_Ungated.fcs',\n",
       " '14_B_RA-021 stim_Time.fcs',\n",
       " '14_C_RA-099 stim_Time.fcs',\n",
       " '14_D_RA-031 stim_Time.fcs',\n",
       " '16_A_RA-038 stim_Ungated.fcs',\n",
       " '16_B_RA-034 stim_Time.fcs',\n",
       " '16_C_RA-063 stim_Time.fcs',\n",
       " '16_D_RA-095 stim_Time.fcs',\n",
       " '18_A_RA-046 stim_Ungated.fcs',\n",
       " '18_B_RA-064 stim_Time.fcs',\n",
       " '18_C_RA-101 stim_Time.fcs',\n",
       " '18_D_RA-097 stim_Time.fcs',\n",
       " '20_A_RA-070 stim_Ungated.fcs',\n",
       " '20_B_RA-092 stim_Time.fcs',\n",
       " '20_C_RA-040 stim_Time.fcs',\n",
       " '20_D_RA-057 stim_Time.fcs']"
      ]
     },
     "execution_count": 94,
     "metadata": {},
     "output_type": "execute_result"
    }
   ],
   "source": [
    "stim_ras"
   ]
  },
  {
   "cell_type": "code",
   "execution_count": 60,
   "metadata": {
    "scrolled": false
   },
   "outputs": [
    {
     "data": {
      "text/plain": [
       "{'41': {'PnN': 'Dy164Di', 'PnS': '164Dy_IkBa'},\n",
       " '37': {'PnN': 'Gd160Di', 'PnS': '160Gd_CD14'},\n",
       " '40': {'PnN': 'Dy163Di', 'PnS': '163Dy'},\n",
       " '36': {'PnN': 'Tb159Di', 'PnS': '159Tb_CD11c'},\n",
       " '9': {'PnN': 'Pd106Di', 'PnS': '106Pd_MBC4'},\n",
       " '35': {'PnN': 'Gd158Di', 'PnS': '158Gd'},\n",
       " '8': {'PnN': 'Pd105Di', 'PnS': '105Pd_MBC3'},\n",
       " '34': {'PnN': 'Gd157Di', 'PnS': '157Gd'},\n",
       " '7': {'PnN': 'Pd104Di', 'PnS': '104Pd_MBC2'},\n",
       " '33': {'PnN': 'Gd156Di', 'PnS': '156Gd_p-p38'},\n",
       " '29': {'PnN': 'Sm152Di', 'PnS': '152Sm_p-Akt'},\n",
       " '6': {'PnN': 'Rh103Di', 'PnS': '103Rh'},\n",
       " '32': {'PnN': 'Gd155Di', 'PnS': '155Gd_CD120a'},\n",
       " '28': {'PnN': 'Eu151Di', 'PnS': '151Eu_CD123'},\n",
       " '5': {'PnN': 'Pd102Di', 'PnS': '102Pd_MBC1'},\n",
       " '31': {'PnN': 'Gd154Di', 'PnS': '154Gd'},\n",
       " '27': {'PnN': 'Nd150Di', 'PnS': '150Nd_CD86'},\n",
       " '4': {'PnN': 'Zr90Di', 'PnS': '90Zr'},\n",
       " '30': {'PnN': 'Eu153Di', 'PnS': '153Eu_Beads2'},\n",
       " '26': {'PnN': 'Sm149Di', 'PnS': '149Sm'},\n",
       " '3': {'PnN': 'Y89Di', 'PnS': '89Y_CD45'},\n",
       " '65': {'PnN': 'Residual', 'PnS': 'Residual'},\n",
       " '25': {'PnN': 'Nd148Di', 'PnS': '148Nd_CD16'},\n",
       " '2': {'PnN': 'Event_length', 'PnS': 'Event_length'},\n",
       " '64': {'PnN': 'Width', 'PnS': 'Width'},\n",
       " '24': {'PnN': 'Sm147Di', 'PnS': '147Sm_CD20'},\n",
       " '1': {'PnN': 'Time', 'PnS': 'Time'},\n",
       " '63': {'PnN': 'Offset', 'PnS': 'Offset'},\n",
       " '59': {'PnN': 'Pt198Di', 'PnS': '198Pt'},\n",
       " '23': {'PnN': 'Nd146Di', 'PnS': '146Nd_CD8a'},\n",
       " '19': {'PnN': 'Nd142Di', 'PnS': '142Nd_Caspase3'},\n",
       " '62': {'PnN': 'Center', 'PnS': 'Center'},\n",
       " '58': {'PnN': 'Pt195Di', 'PnS': '195Pt_Cisplatin'},\n",
       " '22': {'PnN': 'Nd145Di', 'PnS': '145Nd_CD4'},\n",
       " '18': {'PnN': 'Pr141Di', 'PnS': '141Pr'},\n",
       " '61': {'PnN': 'Bi209Di', 'PnS': '209Bi_CD61'},\n",
       " '57': {'PnN': 'Pt194Di', 'PnS': '194Pt'},\n",
       " '21': {'PnN': 'Nd144Di', 'PnS': '144Nd'},\n",
       " '17': {'PnN': 'Ce140Di', 'PnS': '140Ce_Beads1'},\n",
       " '60': {'PnN': 'Pb208Di', 'PnS': '208Pb'},\n",
       " '56': {'PnN': 'Ir193Di', 'PnS': '193Ir_DNA2'},\n",
       " '20': {'PnN': 'Nd143Di', 'PnS': '143Nd'},\n",
       " '16': {'PnN': 'Ba138Di', 'PnS': '138Ba'},\n",
       " '55': {'PnN': 'Ir191Di', 'PnS': '191Ir_DNA1'},\n",
       " '15': {'PnN': 'Cs133Di', 'PnS': '133Cs'},\n",
       " '54': {'PnN': 'BCKG190Di', 'PnS': '190BCKG'},\n",
       " '14': {'PnN': 'Xe131Di', 'PnS': '131Xe'},\n",
       " '53': {'PnN': 'Yb176Di', 'PnS': '176Yb_CD56'},\n",
       " '49': {'PnN': 'Yb172Di', 'PnS': '172Yb'},\n",
       " '13': {'PnN': 'I127Di', 'PnS': '127I'},\n",
       " '52': {'PnN': 'Lu175Di', 'PnS': '175Lu_Beads3'},\n",
       " '48': {'PnN': 'Yb171Di', 'PnS': '171Yb'},\n",
       " '12': {'PnN': 'Sn120Di', 'PnS': '120Sn'},\n",
       " '51': {'PnN': 'Yb174Di', 'PnS': '174Yb_HLA-DR'},\n",
       " '47': {'PnN': 'Er170Di', 'PnS': '170Er_CD3'},\n",
       " '11': {'PnN': 'Pd110Di', 'PnS': '110Pd_MBC6'},\n",
       " '50': {'PnN': 'Yb173Di', 'PnS': '173Yb'},\n",
       " '46': {'PnN': 'Tm169Di', 'PnS': '169Tm_CD45RA'},\n",
       " '10': {'PnN': 'Pd108Di', 'PnS': '108Pd_MBC5'},\n",
       " '45': {'PnN': 'Er168Di', 'PnS': '168Er'},\n",
       " '44': {'PnN': 'Er167Di', 'PnS': '167Er_p-cJun'},\n",
       " '43': {'PnN': 'Er166Di', 'PnS': '166Er_p-NFkB'},\n",
       " '39': {'PnN': 'Dy162Di', 'PnS': '162Dy'},\n",
       " '42': {'PnN': 'Ho165Di', 'PnS': '165Ho_CD120b'},\n",
       " '38': {'PnN': 'Dy161Di', 'PnS': '161Dy'}}"
      ]
     },
     "execution_count": 60,
     "metadata": {},
     "output_type": "execute_result"
    }
   ],
   "source": [
    "f.channels"
   ]
  },
  {
   "cell_type": "code",
   "execution_count": 129,
   "metadata": {},
   "outputs": [],
   "source": [
    "npy_data = np.reshape(f.events, (-1, f.channel_count))"
   ]
  },
  {
   "cell_type": "code",
   "execution_count": 130,
   "metadata": {},
   "outputs": [
    {
     "data": {
      "text/plain": [
       "(239057, 65)"
      ]
     },
     "execution_count": 130,
     "metadata": {},
     "output_type": "execute_result"
    }
   ],
   "source": [
    "npy_data.shape"
   ]
  },
  {
   "cell_type": "code",
   "execution_count": 41,
   "metadata": {},
   "outputs": [],
   "source": [
    "import neurosysmed as nsm"
   ]
  },
  {
   "cell_type": "code",
   "execution_count": 45,
   "metadata": {},
   "outputs": [],
   "source": [
    "import importlib"
   ]
  },
  {
   "cell_type": "code",
   "execution_count": 127,
   "metadata": {},
   "outputs": [],
   "source": [
    "p = \"OriginalDATA/FlowRepository_FR-FCM-Z24N_files/10_A_KTR-019 stim_Ungated.fcs\"\n",
    "p2 = \"OriginalDATA/FlowRepository_FR-FCM-Z24N_files/11_D_RA-091 unstim_Time.fcs\""
   ]
  },
  {
   "cell_type": "code",
   "execution_count": 128,
   "metadata": {},
   "outputs": [],
   "source": [
    "f = flowio.flowdata.FlowData(p2)"
   ]
  },
  {
   "cell_type": "code",
   "execution_count": 104,
   "metadata": {},
   "outputs": [
    {
     "data": {
      "text/plain": [
       "65"
      ]
     },
     "execution_count": 104,
     "metadata": {},
     "output_type": "execute_result"
    }
   ],
   "source": [
    "f.channel_count"
   ]
  },
  {
   "cell_type": "markdown",
   "metadata": {},
   "source": [
    "# RA-data description\n",
    "\n",
    "Mass cytometry (CyTOF)\n",
    "1. panel of 12 phenotyping and 10 functional markers\n",
    "2. signaling in unstimulated and TNF-stimulated peripheral blood mononulear cells\n",
    "3. from 20 newly diagnosed, untreated RA patients\n",
    "4. 20 healthy donors.\n",
    "\n",
    "1. unstim = unstimulated with tumor necrosis factor (TNF) (TNF inhibitors effectively repress inflammatory activity in RA)\n",
    "2. stim = stimulated with TNF\n",
    "3. ungated = manual removal of events representing \n",
    "\n",
    "## The RA paper:\n",
    "The objective of this study was to identify markers in immune cell populations that distinguish RA patients from healthy donors with an emphasis on TNF signaling\n",
    "\n",
    "We employed mass cytometry (CyTOF) with a panel of 13 phenotyping and 10 functional markers to explore signaling in unstimulated and TNF-stimulated peripheral blood mononuclear cells from 20 newly diagnosed, untreated RA patients and 20 healthy donors."
   ]
  },
  {
   "cell_type": "markdown",
   "metadata": {},
   "source": [
    "1. intracellular functional markers\n",
    "2. surface phenotypic markers "
   ]
  },
  {
   "cell_type": "code",
   "execution_count": null,
   "metadata": {},
   "outputs": [],
   "source": []
  }
 ],
 "metadata": {
  "kernelspec": {
   "display_name": "Python 3",
   "language": "python",
   "name": "python3"
  },
  "language_info": {
   "codemirror_mode": {
    "name": "ipython",
    "version": 3
   },
   "file_extension": ".py",
   "mimetype": "text/x-python",
   "name": "python",
   "nbconvert_exporter": "python",
   "pygments_lexer": "ipython3",
   "version": "3.7.4"
  }
 },
 "nbformat": 4,
 "nbformat_minor": 2
}
