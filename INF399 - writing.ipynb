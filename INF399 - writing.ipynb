{
 "cells": [
  {
   "cell_type": "markdown",
   "metadata": {},
   "source": [
    "# To Write about:\n",
    "\n",
    "**DATA**\n",
    "- describe the data\n",
    "- Why did you choose these visualizations?\n",
    "\n",
    "**GMM**\n",
    "- why did you choose the number of components?\n",
    "- why did you use BIC and AIC to choose the number of components?\n",
    "- why did you choose those parameters?\n",
    "\n",
    "**Classifier**\n",
    "- why did you choose KNeighborsClassifier?\n",
    "\n",
    "**Sampling patients**\n",
    "- Why did you use UMAP to embedd?\n",
    "- Why did you embedd patients by group?\n",
    "- Why did you use KernelDensity estimator to estimate the embedded patients?\n",
    "- Why did you use kullback leibler divergence, and why the symmetric version?\n",
    "- Why did you use heatmap to visualize?\n",
    "- Why did you use a 2D embedding?\n",
    "- Why did you use boxplot to visualize?\n",
    "\n"
   ]
  },
  {
   "cell_type": "code",
   "execution_count": null,
   "metadata": {},
   "outputs": [],
   "source": []
  }
 ],
 "metadata": {
  "kernelspec": {
   "display_name": "Python 3",
   "language": "python",
   "name": "python3"
  },
  "language_info": {
   "codemirror_mode": {
    "name": "ipython",
    "version": 2
   },
   "file_extension": ".py",
   "mimetype": "text/x-python",
   "name": "python",
   "nbconvert_exporter": "python",
   "pygments_lexer": "ipython2",
   "version": "2.7.16"
  },
  "varInspector": {
   "cols": {
    "lenName": 16,
    "lenType": 16,
    "lenVar": 40
   },
   "kernels_config": {
    "python": {
     "delete_cmd_postfix": "",
     "delete_cmd_prefix": "del ",
     "library": "var_list.py",
     "varRefreshCmd": "print(var_dic_list())"
    },
    "r": {
     "delete_cmd_postfix": ") ",
     "delete_cmd_prefix": "rm(",
     "library": "var_list.r",
     "varRefreshCmd": "cat(var_dic_list()) "
    }
   },
   "types_to_exclude": [
    "module",
    "function",
    "builtin_function_or_method",
    "instance",
    "_Feature"
   ],
   "window_display": false
  }
 },
 "nbformat": 4,
 "nbformat_minor": 2
}
