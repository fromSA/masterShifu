{
 "cells": [
  {
   "cell_type": "markdown",
   "metadata": {},
   "source": [
    "# Conditional VAE"
   ]
  },
  {
   "cell_type": "markdown",
   "metadata": {},
   "source": [
    "## Process\n",
    "\n",
    "1. perform model-selection\n",
    "    - without using CVAE_MODEL, perform hyperparamter grid-search\n",
    "    - using the total-loss function\n",
    "2. with the selected model, \n",
    "    - initilize the model in CVAE_MODEL\n",
    "    - fit the model\n",
    "    - save the model\n",
    "3. compute DDloss\n",
    "    - init CVAE_MODEL\n",
    "    - load the model\n",
    "    - generate patients\n",
    "    - compute\n"
   ]
  },
  {
   "cell_type": "code",
   "execution_count": 1,
   "metadata": {},
   "outputs": [
    {
     "name": "stderr",
     "output_type": "stream",
     "text": [
      "Using TensorFlow backend.\n"
     ]
    }
   ],
   "source": [
    "import math\n",
    "import random\n",
    "import numpy as np\n",
    "import pandas as pd\n",
    "import tensorflow as tf\n",
    "from tensorflow import keras\n",
    "from keras import backend as K\n",
    "import matplotlib.pyplot as plt\n",
    "from tensorflow.keras import layers\n",
    "from sklearn.model_selection import train_test_split"
   ]
  },
  {
   "cell_type": "markdown",
   "metadata": {},
   "source": [
    "## CVAE"
   ]
  },
  {
   "cell_type": "code",
   "execution_count": 43,
   "metadata": {},
   "outputs": [],
   "source": [
    "class CVAE(keras.Model):\n",
    "    \n",
    "    class Sampling(layers.Layer):\n",
    "        \"\"\"Uses (z_mean, z_log_var) to sample z, the vector encoding a digit.\"\"\"\n",
    "\n",
    "        def call(self, inputs):\n",
    "            z_mean, z_log_var = inputs\n",
    "            batch = tf.shape(z_mean)[0]\n",
    "            dim = tf.shape(z_mean)[1]\n",
    "            epsilon = tf.keras.backend.random_normal(shape=(batch, dim))\n",
    "            return z_mean + tf.exp(0.5 * z_log_var) * epsilon\n",
    "\n",
    "\n",
    "    \n",
    "    def __init__(self, latent_dim, input_shape, conditional_shape, **kwargs):\n",
    "        \n",
    "        super(CVAE, self).__init__(**kwargs)\n",
    "        \n",
    "        self.latent_dim = latent_dim\n",
    "        self.nr_markers = input_shape - conditional_shape\n",
    "        self.conditional_shape = conditional_shape\n",
    "        \n",
    "        self.encoder = self.create_encoder(latent_dim, input_shape)\n",
    "        self.decoder = self.create_decoder(latent_dim, input_shape)\n",
    "    \n",
    "    \n",
    "    def create_encoder(self, latent_dim, input_shape):\n",
    "        \"\"\"\n",
    "        \n",
    "        PARAMETERS\n",
    "        ----------\n",
    "        latent_dim: int\n",
    "            the dimensision of latent variable\n",
    "        input_shape: int\n",
    "            the shape of the input data\n",
    "            \n",
    "        RETURNS\n",
    "        -------\n",
    "        encoder: keras model\n",
    "            the encoder in the variational autoencoder.\n",
    "        \"\"\"\n",
    "        # An encoder of single selfs.\n",
    "        encoder_inputs = keras.Input(shape=(input_shape,), name=\"encoder_input\")\n",
    "        x = layers.Dense(10, activation=\"relu\", name=\"encoder_l2\")(encoder_inputs)\n",
    "        x = layers.Dense(8, activation=\"relu\",name=\"encoder_l3\")(x)\n",
    "        x = layers.Dense(6, activation=\"relu\",name=\"encoder_l4\")(x)\n",
    "\n",
    "        z_mean = layers.Dense(latent_dim, name=\"z_mean\")(x)\n",
    "        z_log_var = layers.Dense(latent_dim, name=\"z_log_var\")(x)\n",
    "        \n",
    "        z = CVAE.Sampling()([z_mean, z_log_var])\n",
    "\n",
    "        encoder = keras.Model(encoder_inputs, [z_mean, z_log_var, z], name=\"encoder\")\n",
    "        return encoder\n",
    "        \n",
    "    def create_decoder(self, latent_dim, input_shape):\n",
    "        \"\"\"\n",
    "        \n",
    "        PARAMETERS\n",
    "        ----------\n",
    "        latent_dim: int\n",
    "            the dimensision of latent variable\n",
    "            \n",
    "        RETURNS\n",
    "        -------\n",
    "        decoder: keras model\n",
    "            the decoder in the variational autoencoder.\n",
    "        \"\"\"\n",
    "        decoder_inputs = keras.Input(shape=(latent_dim+self.conditional_shape,), name =\"latent_variable\")\n",
    "        x = layers.Dense(6, activation=\"relu\", name=\"decoder_l2\")(decoder_inputs)\n",
    "        x = layers.Dense(8, activation=\"relu\", name=\"decoder_l3\")(x)\n",
    "        x = layers.Dense(10, activation=\"relu\",name=\"decoder_l4\")(x)\n",
    "        decoder_outputs = layers.Dense(input_shape, activation=\"relu\", name=\"output_layer\")(x)\n",
    "        decoder = keras.Model(decoder_inputs, decoder_outputs, name=\"decoder\")\n",
    "        return decoder\n",
    "\n",
    "\n",
    "    \n",
    "    def train_step(self, data):\n",
    "        if isinstance(data, tuple):\n",
    "            data = data[0]\n",
    "        \n",
    "        with tf.GradientTape() as tape:\n",
    "            \n",
    "            condition = data[:, -self.conditional_shape:]\n",
    "            \n",
    "            z_mean, z_log_var, z = self.encoder(data)\n",
    "            \n",
    "            \n",
    "            condititonal_z = keras.layers.concatenate([z, condition], axis=1)\n",
    "            conditional_reconstruction = self.decoder(condititonal_z)\n",
    "            \n",
    "            # Use MSE as a construction loss, to be set as a parameter.\n",
    "            mse = tf.keras.losses.MeanSquaredError()\n",
    "            reconstruction_loss = mse(data, conditional_reconstruction)\n",
    "            \n",
    "            kl_loss = 1 + z_log_var - tf.square(z_mean) - tf.exp(z_log_var)\n",
    "            kl_loss = tf.reduce_mean(kl_loss)\n",
    "            kl_loss *= -0.5\n",
    "            \n",
    "            total_loss = reconstruction_loss + kl_loss\n",
    "            \n",
    "        grads = tape.gradient(total_loss, self.trainable_weights)\n",
    "        self.optimizer.apply_gradients(zip(grads, self.trainable_weights))\n",
    "        return {\n",
    "            \"loss\": total_loss,\n",
    "            \"reconstruction_loss\": reconstruction_loss,\n",
    "            \"kl_loss\": kl_loss,\n",
    "        }\n",
    "    \n",
    "    \n",
    "    def call(self, inputs):\n",
    "        _, _, encoded = self.encoder(inputs)\n",
    "        e = keras.layers.concatenate([encoded, inputs[:,-2:]], axis=1)\n",
    "        decoded = self.decoder(e)\n",
    "        return decoded\n",
    "\n",
    "        #reconst_images = decoder.predict(np.random.normal(0,1,size=(cell_per_patient, self.latent_dim)))"
   ]
  },
  {
   "cell_type": "code",
   "execution_count": 13,
   "metadata": {},
   "outputs": [],
   "source": [
    "del CVAE"
   ]
  },
  {
   "cell_type": "markdown",
   "metadata": {},
   "source": [
    "## DATA"
   ]
  },
  {
   "cell_type": "code",
   "execution_count": 6,
   "metadata": {},
   "outputs": [],
   "source": [
    "cells = pd.read_csv(\"ModifiedDATA/scaled_ra.csv\")"
   ]
  },
  {
   "cell_type": "markdown",
   "metadata": {},
   "source": [
    "#### Add condition"
   ]
  },
  {
   "cell_type": "code",
   "execution_count": null,
   "metadata": {},
   "outputs": [],
   "source": [
    "def add_id(df):\n",
    "    cond = pd.get_dummies(df[\"group\"]).astype(\"float32\")\n",
    "\n",
    "    data = df[df.columns.difference([\"id\",\"group\"])]\n",
    "    data = np.concatenate((data, cond), axis=1)\n",
    "    \n",
    "    return cond, data\n",
    "\n",
    "cond, data = add_id(cells)\n",
    "cond_shape = cond.shape[1]\n",
    "data_shape = data.shape[1]"
   ]
  },
  {
   "cell_type": "markdown",
   "metadata": {},
   "source": [
    "### CVAE - Model"
   ]
  },
  {
   "cell_type": "code",
   "execution_count": 10,
   "metadata": {},
   "outputs": [
    {
     "name": "stdout",
     "output_type": "stream",
     "text": [
      "5000/5000 [==============================] - 6s 1ms/step - loss: 1.2068 - reconstruction_loss: 0.7761 - kl_loss: 0.4307 - val_loss: 0.0000e+00\n"
     ]
    },
    {
     "data": {
      "text/plain": [
       "<tensorflow.python.keras.callbacks.History at 0x153388a50>"
      ]
     },
     "execution_count": 10,
     "metadata": {},
     "output_type": "execute_result"
    }
   ],
   "source": [
    "# SELECTED HYPERPARAMETERS\n",
    "LEARNING_RATE = 0.01\n",
    "OPTIMIZER = keras.optimizers.Adam(LEARNING_RATE)\n",
    "EPOCHS = 1\n",
    "BATCH_SIZE = 128\n",
    "\n",
    "\n",
    "LATENT_DIM = 2 \n",
    "\n",
    "\n",
    "model = CVAE(LATENT_DIM, input_shape, group_id_shape)\n",
    "#model.build((None,input_shape))\n",
    "\n",
    "model.compile(optimizer=OPTIMIZER)\n",
    "\n",
    "model.fit(data, epochs=EPOCHS, batch_size=BATCH_SIZE, validation_split=0.2)"
   ]
  },
  {
   "cell_type": "code",
   "execution_count": 11,
   "metadata": {},
   "outputs": [],
   "source": [
    "filepath = \"GenerativeModels/CVAE_1.tf\""
   ]
  },
  {
   "cell_type": "code",
   "execution_count": 12,
   "metadata": {
    "scrolled": true
   },
   "outputs": [
    {
     "name": "stdout",
     "output_type": "stream",
     "text": [
      "INFO:tensorflow:Assets written to: GenerativeModels/CVAE_1.tf/assets\n"
     ]
    }
   ],
   "source": [
    "# Save model\n",
    "model.save(filepath)"
   ]
  },
  {
   "cell_type": "code",
   "execution_count": 15,
   "metadata": {},
   "outputs": [],
   "source": [
    "# Load Model\n",
    "loaded_model = keras.models.load_model(filepath)#, custom_objects={\"CVAE\": CVAE}) \n",
    "#don't need the class for loading when using the default saveformat"
   ]
  },
  {
   "cell_type": "code",
   "execution_count": 33,
   "metadata": {},
   "outputs": [],
   "source": [
    "generated_control = generate_patients(loaded_model, input_shape-group_id_shape, LATENT_DIM, group_id_shape, 20, 20, cells.columns.difference([\"id\",\"group\"]), \"control\")\n",
    "generated_diseased = generate_patients(loaded_model, input_shape-group_id_shape, LATENT_DIM, group_id_shape, 20, 20, cells.columns.difference([\"id\",\"group\"]), \"diseased\")\n"
   ]
  },
  {
   "cell_type": "code",
   "execution_count": 34,
   "metadata": {},
   "outputs": [],
   "source": [
    "generated = generated_control.append(generated_diseased)"
   ]
  },
  {
   "cell_type": "code",
   "execution_count": null,
   "metadata": {},
   "outputs": [],
   "source": []
  },
  {
   "cell_type": "markdown",
   "metadata": {},
   "source": [
    "## Hyperparameter search"
   ]
  },
  {
   "cell_type": "code",
   "execution_count": 2,
   "metadata": {},
   "outputs": [],
   "source": [
    "# Hyperparameters\n",
    "def rand_dec_layers(size, rang):\n",
    "    s,e = rang\n",
    "    sampled_list = random.sample(range(s,e),size)\n",
    "    sampled_list.sort()\n",
    "    return sampled_list\n",
    "        \n",
    "hyperparameters_encoder = {\"nr_hidden_layers\": list(range(2,12)),\n",
    "                           \"dim_per_layer\" : lambda x : rand_dec_layers(x,(2,12)), \n",
    "                           \"activation_function\": [\"relu\",\"sigma\", \"sigmoid\", \"tanh\", \"selu\", \"softsign\", \"elu\", \"softmax\"],\n",
    "                          \"reconstruction_loss\": [\"mse\",\"mae\",\"mape\",\"msle\", \"logCos\"]}\n",
    "                            # optimizer\n",
    "                            "
   ]
  },
  {
   "cell_type": "markdown",
   "metadata": {},
   "source": [
    "## Final model for export"
   ]
  },
  {
   "cell_type": "code",
   "execution_count": 47,
   "metadata": {},
   "outputs": [],
   "source": [
    "import math\n",
    "import random\n",
    "import numpy as np\n",
    "import pandas as pd\n",
    "import tensorflow as tf\n",
    "from tensorflow import keras\n",
    "from keras import backend as K\n",
    "import matplotlib.pyplot as plt\n",
    "from tensorflow.keras import layers\n",
    "from sklearn.model_selection import train_test_split\n",
    "\n",
    "class CVAE_MODEL():\n",
    "    \n",
    "    def __init__(self):\n",
    "        pass\n",
    "    \n",
    "    def convert_group(self, df):\n",
    "        cond = pd.get_dummies(df[\"group\"]).astype(\"float32\")\n",
    "\n",
    "        data = df[df.columns.difference([\"id\",\"group\"])]\n",
    "        data = np.concatenate((data, cond), axis=1)\n",
    "\n",
    "        return cond, data\n",
    "\n",
    "    def fit(self, data, latent_dim, epochs, batch_size, optimizer):\n",
    "        \n",
    "        # initilize the CVAE model\n",
    "        cond, data = self.convert_group(data)\n",
    "        cond_shape = cond.shape[1]\n",
    "        data_shape = data.shape[1]\n",
    "        \n",
    "        self.model = CVAE(latent_dim, data_shape, cond_shape)\n",
    "        \n",
    "        # compile the model\n",
    "        self.model.compile(optimizer=optimizer)\n",
    "        \n",
    "        # fit the model\n",
    "        self.model.fit(data, epochs=epochs, batch_size=batch_size, validation_split=0.2)\n",
    "    \n",
    "    def save(self, filepath):\n",
    "        # save the model\n",
    "        self.model.save(filepath)\n",
    "    \n",
    "    def load(self, filepath):\n",
    "        # load the model\n",
    "        # set self.model\n",
    "        \n",
    "        # TODO if filepath exists.\n",
    "        self.model = keras.models.load_model(filepath)\n",
    "        \n",
    "        \n",
    "        \n",
    "    def generate_patients(self, nr_markers, latent_dim, conditional_dim, nr_cells = 20000, nr_patients = 20, column_names=None, group=None): \n",
    "        \"\"\"\n",
    "        PARAMETERS\n",
    "        ----------\n",
    "        nr_markers : int\n",
    "        latent_dim : int\n",
    "        conditional_dim : int\n",
    "        nr_cells : int\n",
    "        nr_patients : int\n",
    "        column_names : Dataframe.columns\n",
    "        group : str\n",
    "            \"control\" or \"diseased\"\n",
    "        \n",
    "        RETURNS\n",
    "        -------\n",
    "        \n",
    "        patients : dataframe\n",
    "        \n",
    "        \"\"\"\n",
    "        if self.model:\n",
    "        \n",
    "            patients = np.empty(shape=(nr_patients* nr_cells, nr_markers))\n",
    "            p_id = np.empty(shape=nr_patients*nr_cells, dtype=\"int32\")\n",
    "\n",
    "            if group == \"control\":\n",
    "                gr = np.concatenate((np.ones(shape=(nr_cells,1)),np.zeros(shape=(nr_cells,1))), axis=1)\n",
    "            else:\n",
    "                gr = np.concatenate((np.zeros(shape=(nr_cells,1)),np.ones(shape=(nr_cells,1))), axis=1)\n",
    "\n",
    "            for i in range(nr_patients):\n",
    "                # patient ids\n",
    "                p_id[nr_cells*i : nr_cells*(i+1)] = np.full(shape=(nr_cells), fill_value=i+1, dtype=\"int32\")\n",
    "\n",
    "                sample = np.random.normal(0,1, size = (nr_cells, latent_dim))\n",
    "                latent_vals = np.concatenate((sample, gr),axis=1)\n",
    "\n",
    "                # sampled patient cells\n",
    "                patients[nr_cells*i : nr_cells*(i+1)] = self.model.decoder.predict(latent_vals)[:,:-conditional_dim]\n",
    "\n",
    "            patients_df = pd.DataFrame(patients, columns=column_names)\n",
    "\n",
    "\n",
    "            patients_df[\"id\"] = p_id\n",
    "            patients_df[\"group\"] = group\n",
    "\n",
    "            return patients_df\n",
    "        \n",
    "    \n",
    "    def embedd(self, X):\n",
    "        \"\"\"\n",
    "        PARAMETERS:\n",
    "        ----------\n",
    "        X : dataframe or numpy array\n",
    "        \"\"\"\n",
    "        # embedd data with the encoder\n",
    "        \n",
    "        return self.model.encoder.predict(X)\n",
    "    \n",
    "    def plot_embedding(self,data, labels=None):\n",
    "        \n",
    "        # display a 2D plot of the digit classes in the latent space\n",
    "        _, _, z = self.model.encoder.predict(data)\n",
    "        color = data[:,-group_id_shape:].argmax(axis=1)\n",
    "        plt.figure(figsize=(12, 10))\n",
    "        plt.scatter(z[:, 0], z[:, 1], label=\"Embedding\")\n",
    "        #plt.scatter(z_mean[:, 0], z_mean[:, 1], label=\"Means\")\n",
    "        #plt.scatter(z_var[:,0], z_var[:,1], label=\"Variance\")\n",
    "        #plt.colorbar()\n",
    "        plt.legend()\n",
    "        plt.xlabel(\"z_0\")\n",
    "        plt.ylabel(\"z_1\")\n",
    "        plt.show()"
   ]
  },
  {
   "cell_type": "code",
   "execution_count": 48,
   "metadata": {},
   "outputs": [
    {
     "name": "stdout",
     "output_type": "stream",
     "text": [
      "5000/5000 [==============================] - 7s 1ms/step - loss: 1.4720 - reconstruction_loss: 1.4715 - kl_loss: 5.1036e-04 - val_loss: 0.0000e+00\n",
      "INFO:tensorflow:Assets written to: GenerativeModels/CVAE_1.tf/assets\n"
     ]
    }
   ],
   "source": [
    "modeler = CVAE_MODEL()\n",
    "modeler.fit(cells,LATENT_DIM, EPOCHS, BATCH_SIZE, OPTIMIZER)\n",
    "filepath = \"GenerativeModels/CVAE_1.tf\"\n",
    "modeler.save(filepath)\n",
    "modeler.load(filepath)\n",
    "#modeler.generate_patients()"
   ]
  },
  {
   "cell_type": "markdown",
   "metadata": {},
   "source": [
    "## Visualisation"
   ]
  },
  {
   "cell_type": "code",
   "execution_count": 35,
   "metadata": {},
   "outputs": [],
   "source": [
    "# Add condition\n",
    "gi = pd.get_dummies(generated[\"group\"]).astype(\"float32\")\n",
    "\n",
    "d = generated[generated.columns.difference([\"id\",\"group\"])]\n",
    "d = np.concatenate((d, gi), axis=1)"
   ]
  },
  {
   "cell_type": "code",
   "execution_count": 36,
   "metadata": {},
   "outputs": [],
   "source": [
    "def plot_label_clusters(encoder, decoder, data, labels=None):\n",
    "    # display a 2D plot of the digit classes in the latent space\n",
    "    _, _, z = encoder.predict(data)\n",
    "    color = data[:,-group_id_shape:].argmax(axis=1)\n",
    "    plt.figure(figsize=(12, 10))\n",
    "    plt.scatter(z[:, 0], z[:, 1], label=\"Embedding\")\n",
    "    #plt.scatter(z_mean[:, 0], z_mean[:, 1], label=\"Means\")\n",
    "    #plt.scatter(z_var[:,0], z_var[:,1], label=\"Variance\")\n",
    "    #plt.colorbar()\n",
    "    plt.legend()\n",
    "    plt.xlabel(\"z_0\")\n",
    "    plt.ylabel(\"z_1\")\n",
    "    plt.show()"
   ]
  },
  {
   "cell_type": "code",
   "execution_count": 37,
   "metadata": {},
   "outputs": [
    {
     "data": {
      "image/png": "[encoded data removed]",
      "text/plain": [
       "<Figure size 864x720 with 1 Axes>"
      ]
     },
     "metadata": {
      "needs_background": "light"
     },
     "output_type": "display_data"
    }
   ],
   "source": [
    "plot_label_clusters(loaded_model.encoder, loaded_model.decoder, d)"
   ]
  },
  {
   "cell_type": "code",
   "execution_count": null,
   "metadata": {},
   "outputs": [],
   "source": [
    "class CGAN(keras.Model):\n",
    "    \n",
    "    def __init__(self, input_dim, latent_dim, optimizer = \"adam\", conditional_dim=None):\n",
    "        super(CGAN, self).__init__()\n",
    "        \n",
    "        self.input_dim = input_dim\n",
    "        self.latent_dim = latent_dim\n",
    "        self.conditional_dim = conditional_dim\n",
    "        self.optimizer = optimizer\n",
    "        \n",
    "        self.generator = self.create_generator()\n",
    "        self.discriminator = self.create_discrimenator()\n",
    "        self.gan = self.create_gan()\n",
    "        \n",
    "    def create_generator(self):\n",
    "         # generator of single events/cells\n",
    "        generator_input = keras.Input(shape=(self.latent_dim,), name=\"latent_input\")\n",
    "        x = layers.Dense(10, activation=\"relu\", name=\"generator_l1\")(latent_input)\n",
    "        x = layers.Dense(8, activation=\"relu\",name=\"generator_l2\")(x)\n",
    "        x = layers.Dense(6, activation=\"relu\",name=\"generator_l3\")(x)\n",
    "        generator_output = layers.Dense(self.input_dim, activation=\"relu\", name = \"generator\")(x)\n",
    "        g = keras.Model(generator_input, generator_output, name=\"generator\")\n",
    "        g.compile(optimizer = self.optimizer, loss = \"binary_crossentropy\")\n",
    "        return g\n",
    "    \n",
    "    def create_discrimenator(self):\n",
    "        # generator of single events/cells\n",
    "        discriminator_input = keras.Input(shape=(self.input_dim,), name=\"latent_input\")\n",
    "        x = layers.Dense(10, activation=\"relu\", name=\"generator_l1\")(discriminator_input)\n",
    "        x = layers.Dense(8, activation=\"relu\",name=\"generator_l2\")(x)\n",
    "        x = layers.Dense(6, activation=\"relu\",name=\"generator_l3\")(x)\n",
    "        discriminator_output = layers.Dense(1, activation=\"sigmoid\", name = \"generator\")(x)\n",
    "        d = keras.Model(discriminator_input, discriminator_output, name=\"generator\")\n",
    "        d.compile(optimizer = self.optimizer, loss = \"binary_crossentropy\")\n",
    "        return d\n",
    "    \n",
    "    def create_gan(self):\n",
    "        gan_input = keras.Input(shape=(self.input_dim), name=\"gan_input\")\n",
    "        x = self.generator(gan_input)\n",
    "        gan_output = self.discriminator(x)\n",
    "        gan = Model(inputs=gan_input, outputs=gan_output)\n",
    "        gan.compile(loss='binary_crossentropy', optimizer = self.optimizer)\n",
    "        \n",
    "        return gan\n",
    "    \n",
    "    def generate_latent(self, shape):\n",
    "        # currently random noice, consider using a some distribution?\n",
    "        return np.random.normal(0,1, shape)\n",
    "    \n",
    "    def train_generator(self, data):\n",
    "        # generate latent variable with the same number of items as data\n",
    "        \n",
    "        noice = self.generate_latent((self.latent_dim, data.shape[0]))\n",
    "\n",
    "        X = self.generator(noice)\n",
    "        # the desired target of the generated data is \n",
    "        # to be similar to the orginial data when it is judged by the discriminator.\n",
    "        y = np.ones(data.shape[0]) \n",
    "        \n",
    "        self.discriminator.trainable = False\n",
    "        \n",
    "        self.gan.train_on_batch(X, y)\n",
    "        \n",
    "    def train_discriminator(self, original_data):\n",
    "        noice = self.generate_latent((self.latent_dim, original_data.shape[0])) # TODO\n",
    "        generated_data = self.generator.predict(noice)\n",
    "        \n",
    "        X = np.concatenate([original_data, generated_data])\n",
    "        \n",
    "        self.discriminator.trainable = True\n",
    "        \n",
    "        y = np.zeros(2*original_data.shape[0])\n",
    "        y [:original_data.shape[0]]= 1 # 1 = original data and 0 = generated data.\n",
    "        \n",
    "        self.gan.train_on_batch(X, y)\n",
    "    \n",
    "    def train_on_batch(self, x):\n",
    "        self.train_discriminator(x)\n",
    "        self.train_generator(x)"
   ]
  }
 ],
 "metadata": {
  "kernelspec": {
   "display_name": "Python 3",
   "language": "python",
   "name": "python3"
  },
  "language_info": {
   "codemirror_mode": {
    "name": "ipython",
    "version": 3
   },
   "file_extension": ".py",
   "mimetype": "text/x-python",
   "name": "python",
   "nbconvert_exporter": "python",
   "pygments_lexer": "ipython3",
   "version": "3.7.4"
  }
 },
 "nbformat": 4,
 "nbformat_minor": 2
}
