{
 "cells": [
  {
   "cell_type": "markdown",
   "metadata": {
    "slideshow": {
     "slide_type": "slide"
    }
   },
   "source": [
    "# Import"
   ]
  },
  {
   "cell_type": "code",
   "execution_count": 3,
   "metadata": {
    "ExecuteTime": {
     "end_time": "2020-07-13T13:24:47.577964Z",
     "start_time": "2020-07-13T13:24:36.766372Z"
    }
   },
   "outputs": [],
   "source": [
    "import pandas as pd\n",
    "import numpy as np\n",
    "import matplotlib\n",
    "import matplotlib.pyplot as plt\n",
    "import seaborn as sns\n",
    "from pandas.plotting import parallel_coordinates\n",
    "\n",
    "from sklearn.preprocessing import LabelEncoder\n",
    "\n",
    "from sklearn.manifold import MDS\n",
    "from sklearn.manifold import TSNE\n",
    "import umap\n",
    "\n",
    "from sklearn.mixture import GaussianMixture\n",
    "import pickle\n",
    "\n",
    "from sklearn.neighbors import KernelDensity"
   ]
  },
  {
   "cell_type": "markdown",
   "metadata": {},
   "source": [
    "# TASK 3 - GMM"
   ]
  },
  {
   "cell_type": "markdown",
   "metadata": {},
   "source": [
    "## Model selection"
   ]
  },
  {
   "cell_type": "code",
   "execution_count": 15,
   "metadata": {
    "ExecuteTime": {
     "end_time": "2020-03-11T07:06:15.623887Z",
     "start_time": "2020-03-11T07:05:07.010386Z"
    }
   },
   "outputs": [
    {
     "data": {
      "image/png": "[encoded data removed]",
      "text/plain": [
       "<Figure size 432x288 with 1 Axes>"
      ]
     },
     "metadata": {
      "needs_background": "light"
     },
     "output_type": "display_data"
    }
   ],
   "source": [
    "# fit the models\n",
    "n_components = [4,8,12,16,20,24,28,32,36,40,44,48,52,56,60]\n",
    "gmms = [GaussianMixture(n_components=k).fit(sTrain) for k in n_components]\n",
    "\n",
    "# plot the bics and aics\n",
    "bics = [gmm.bic(sTrain) for gmm in gmms]\n",
    "aics = [gmm.aic(sTrain) for gmm in gmms]\n",
    "\n",
    "plt.plot(n_components, bics, label = 'BIC')\n",
    "plt.plot(n_components, aics, label = 'AIC')\n",
    "plt.xlabel('n_components')\n",
    "plt.legend()\n",
    "plt.show()\n"
   ]
  },
  {
   "cell_type": "markdown",
   "metadata": {},
   "source": [
    "## Fit a GMM with 8 and 36 components on diseased and control groups"
   ]
  },
  {
   "cell_type": "code",
   "execution_count": 24,
   "metadata": {
    "ExecuteTime": {
     "end_time": "2020-04-22T06:58:51.741107Z",
     "start_time": "2020-04-22T06:45:05.770372Z"
    }
   },
   "outputs": [],
   "source": [
    "G8s = {\"control\": None,\"diseased\": None}\n",
    "G36s = {\"control\": None ,\"diseased\": None}\n",
    "\n",
    "for g in [\"control\",\"diseased\"]:\n",
    "    group = df[df.group == g]\n",
    "    group_cells = group[group.columns.difference([\"id\",\"group\"])]\n",
    "\n",
    "    G8s[g] = GaussianMixture(n_components=8).fit(X = group_cells, y = None)\n",
    "    G36s[g] = GaussianMixture(n_components=36).fit(X = group_cells, y = None)\n"
   ]
  },
  {
   "cell_type": "markdown",
   "metadata": {},
   "source": [
    "### Save the models to a file"
   ]
  },
  {
   "cell_type": "code",
   "execution_count": 19,
   "metadata": {
    "ExecuteTime": {
     "end_time": "2020-04-22T06:42:57.752905Z",
     "start_time": "2020-04-22T06:42:57.747246Z"
    }
   },
   "outputs": [],
   "source": [
    "def save_model(model, filename):\n",
    "        pickle.dump(model, open(filename, 'wb'))"
   ]
  },
  {
   "cell_type": "code",
   "execution_count": 25,
   "metadata": {
    "ExecuteTime": {
     "end_time": "2020-04-22T07:00:32.025026Z",
     "start_time": "2020-04-22T07:00:31.959798Z"
    }
   },
   "outputs": [],
   "source": [
    "for key in G8s:\n",
    "    model = G8s[key]\n",
    "    filename = 'G8_{0}.sav'.format(key)\n",
    "    save_model(model,filename)\n",
    "\n",
    "for key in G36s:\n",
    "    model = G36s[key]\n",
    "    filename = 'G36_{0}.sav'.format(key)\n",
    "    save_model(model,filename)"
   ]
  },
  {
   "cell_type": "markdown",
   "metadata": {},
   "source": [
    "### Load the models from file"
   ]
  },
  {
   "cell_type": "code",
   "execution_count": 8,
   "metadata": {
    "ExecuteTime": {
     "end_time": "2020-04-29T16:42:07.836647Z",
     "start_time": "2020-04-29T16:42:07.831421Z"
    }
   },
   "outputs": [],
   "source": [
    "def load_model(filename):\n",
    "    return pickle.load(open(filename, 'rb'))"
   ]
  },
  {
   "cell_type": "code",
   "execution_count": 9,
   "metadata": {
    "ExecuteTime": {
     "end_time": "2020-04-29T16:42:10.141435Z",
     "start_time": "2020-04-29T16:42:10.096443Z"
    }
   },
   "outputs": [],
   "source": [
    "G8s_ = {\"control\": load_model('G8_control.sav'),\"diseased\": load_model('G8_diseased.sav')}\n",
    "G36s_ = {\"control\": load_model('G36_control.sav') ,\"diseased\": load_model('G36_diseased.sav')}"
   ]
  },
  {
   "cell_type": "markdown",
   "metadata": {},
   "source": [
    "## Generate data from the GMMs "
   ]
  },
  {
   "cell_type": "code",
   "execution_count": 10,
   "metadata": {
    "ExecuteTime": {
     "end_time": "2020-04-29T16:42:18.536231Z",
     "start_time": "2020-04-29T16:42:18.528836Z"
    }
   },
   "outputs": [],
   "source": [
    "def generate_patients(gmm, sample_size, nr_patients):\n",
    "    \"\"\"\n",
    "    PARAMETERS:\n",
    "    ----------\n",
    "    gmm (fitted GaussianMixture object): \n",
    "    sample_size (int): number of cells per patient\n",
    "    nr_patients (int): number of patients to generate\n",
    "    \n",
    "    RETURNS:\n",
    "    -------\n",
    "    patients (array): list of patients, each patient with `sample_size` cells.\n",
    "    \"\"\"\n",
    "    patients = np.array([gmm.sample(sample_size)[0] for i in range(nr_patients)])\n",
    "    return patients\n",
    "        "
   ]
  },
  {
   "cell_type": "code",
   "execution_count": 7,
   "metadata": {
    "ExecuteTime": {
     "end_time": "2020-03-25T20:09:40.879058Z",
     "start_time": "2020-03-25T20:09:39.759876Z"
    }
   },
   "outputs": [],
   "source": [
    "sample_size = 20000 # this represents one patient\n",
    "nr_patients = 20\n",
    "\n",
    "G8_patients = {\"control\": generate_patients(G8s[\"control\"],sample_size, nr_patients),\n",
    "                  \"diseased\":  generate_patients(G8s[\"diseased\"],sample_size, nr_patients)}\n",
    "\n",
    "G36_patients = {\"control\":  generate_patients(G36s[\"control\"],sample_size, nr_patients), \n",
    "                   \"diseased\": generate_patients(G36s[\"diseased\"],sample_size, nr_patients)}\n",
    "\n",
    "\n"
   ]
  },
  {
   "cell_type": "markdown",
   "metadata": {},
   "source": [
    "## Train a discriminator (real vs augmented data)"
   ]
  },
  {
   "cell_type": "markdown",
   "metadata": {},
   "source": [
    "### Candidates\n",
    "- Nearest Neighbour\n",
    "- SVM (Linear, RBF)\n",
    "- Gaussian process\n",
    "- Neural Net\n",
    "- Naive Bayes\n",
    "- QDA"
   ]
  },
  {
   "cell_type": "markdown",
   "metadata": {},
   "source": [
    "### Prepare data for Classification"
   ]
  },
  {
   "cell_type": "code",
   "execution_count": 8,
   "metadata": {
    "ExecuteTime": {
     "end_time": "2020-03-25T20:09:43.047966Z",
     "start_time": "2020-03-25T20:09:42.998067Z"
    }
   },
   "outputs": [],
   "source": [
    "X_real = df[df.columns.difference([\"id\",\"group\"])]\n",
    "X_8pc = G8_patients[\"control\"].reshape((400000, 12))\n",
    "X_8pd = G8_patients[\"diseased\"].reshape((400000, 12))\n",
    "X_36pc = G36_patients[\"control\"].reshape((400000, 12))\n",
    "X_36pd = G36_patients[\"diseased\"].reshape((400000, 12))\n",
    "\n",
    "# map real to 1 and augmented to 0\n",
    "y_real = np.ones(df.group.size)\n",
    "y_8pc = np.zeros(X_8pc.shape[0])\n",
    "y_8pd = np.zeros(X_8pd.shape[0])\n",
    "y_36pc = np.zeros(X_36pc.shape[0])\n",
    "y_36pd = np.zeros(X_36pd.shape[0])"
   ]
  },
  {
   "cell_type": "code",
   "execution_count": 10,
   "metadata": {
    "ExecuteTime": {
     "end_time": "2020-03-25T20:12:37.626972Z",
     "start_time": "2020-03-25T20:12:37.452618Z"
    }
   },
   "outputs": [],
   "source": [
    "X_8 = np.concatenate((X_real, X_8pc, X_8pd), axis = 0)\n",
    "X_36 = np.concatenate((X_real, X_36pc, X_36pd), axis = 0)\n",
    "y_8 = np.concatenate((y_real, y_8pc, y_8pd), axis = 0)\n",
    "y_36 = np.concatenate((y_real, y_36pc, y_36pd), axis = 0)"
   ]
  },
  {
   "cell_type": "code",
   "execution_count": 11,
   "metadata": {
    "ExecuteTime": {
     "end_time": "2020-03-25T20:12:39.984007Z",
     "start_time": "2020-03-25T20:12:39.975955Z"
    }
   },
   "outputs": [],
   "source": [
    "from sklearn.model_selection import train_test_split\n",
    "from sklearn.neighbors import KNeighborsClassifier"
   ]
  },
  {
   "cell_type": "code",
   "execution_count": 12,
   "metadata": {
    "ExecuteTime": {
     "end_time": "2020-03-25T20:12:42.717545Z",
     "start_time": "2020-03-25T20:12:42.302623Z"
    }
   },
   "outputs": [],
   "source": [
    "X8_train, X8_test, y8_train, y8_test = train_test_split(X_8, y_8, test_size=.4, random_state=42)\n",
    "X36_train, X36_test, y36_train, y36_test = train_test_split(X_36, y_36, test_size=.4, random_state=42)"
   ]
  },
  {
   "cell_type": "code",
   "execution_count": 13,
   "metadata": {
    "ExecuteTime": {
     "end_time": "2020-03-25T20:23:17.626174Z",
     "start_time": "2020-03-25T20:12:45.063431Z"
    }
   },
   "outputs": [
    {
     "name": "stdout",
     "output_type": "stream",
     "text": [
      "0.83935625\n"
     ]
    }
   ],
   "source": [
    "clf8 = KNeighborsClassifier(3)\n",
    "clf8.fit(X8_train, y8_train)\n",
    "print clf8.score(X8_test,y8_test)"
   ]
  },
  {
   "cell_type": "code",
   "execution_count": 14,
   "metadata": {
    "ExecuteTime": {
     "end_time": "2020-03-25T20:34:51.918985Z",
     "start_time": "2020-03-25T20:24:34.602660Z"
    }
   },
   "outputs": [
    {
     "name": "stdout",
     "output_type": "stream",
     "text": [
      "0.7722546875\n"
     ]
    }
   ],
   "source": [
    "clf36 = KNeighborsClassifier(3)\n",
    "clf36.fit(X36_train, y36_train)\n",
    "print clf36.score(X36_test,y36_test)"
   ]
  },
  {
   "cell_type": "markdown",
   "metadata": {},
   "source": [
    "### Notes\n",
    "- We can see that GMM with 36 components better confuses the classifier\n",
    "- However, a simple classifier like KNeighborsClassifier can still distinguish between real and augmented data better than random"
   ]
  }
 ],
 "metadata": {
  "kernelspec": {
   "display_name": "Python 3",
   "language": "python",
   "name": "python3"
  },
  "language_info": {
   "codemirror_mode": {
    "name": "ipython",
    "version": 2
   },
   "file_extension": ".py",
   "mimetype": "text/x-python",
   "name": "python",
   "nbconvert_exporter": "python",
   "pygments_lexer": "ipython2",
   "version": "2.7.16"
  },
  "varInspector": {
   "cols": {
    "lenName": 16,
    "lenType": 16,
    "lenVar": 40
   },
   "kernels_config": {
    "python": {
     "delete_cmd_postfix": "",
     "delete_cmd_prefix": "del ",
     "library": "var_list.py",
     "varRefreshCmd": "print(var_dic_list())"
    },
    "r": {
     "delete_cmd_postfix": ") ",
     "delete_cmd_prefix": "rm(",
     "library": "var_list.r",
     "varRefreshCmd": "cat(var_dic_list()) "
    }
   },
   "types_to_exclude": [
    "module",
    "function",
    "builtin_function_or_method",
    "instance",
    "_Feature"
   ],
   "window_display": false
  }
 },
 "nbformat": 4,
 "nbformat_minor": 2
}
