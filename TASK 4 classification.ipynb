{
 "cells": [
  {
   "cell_type": "markdown",
   "metadata": {},
   "source": [
    "# TASK 4 Classification"
   ]
  },
  {
   "cell_type": "markdown",
   "metadata": {
    "slideshow": {
     "slide_type": "slide"
    }
   },
   "source": [
    "# Import"
   ]
  },
  {
   "cell_type": "code",
   "execution_count": 1,
   "metadata": {
    "ExecuteTime": {
     "end_time": "2020-07-13T13:24:47.577964Z",
     "start_time": "2020-07-13T13:24:36.766372Z"
    }
   },
   "outputs": [],
   "source": [
    "import pandas as pd\n",
    "import numpy as np\n",
    "import matplotlib\n",
    "import matplotlib.pyplot as plt\n",
    "import seaborn as sns\n",
    "from pandas.plotting import parallel_coordinates\n",
    "\n",
    "from sklearn.preprocessing import LabelEncoder\n",
    "\n",
    "from sklearn.manifold import MDS\n",
    "from sklearn.manifold import TSNE\n",
    "import umap\n",
    "\n",
    "import pickle\n",
    "\n",
    "from sklearn.neighbors import KernelDensity"
   ]
  },
  {
   "cell_type": "code",
   "execution_count": 11,
   "metadata": {
    "ExecuteTime": {
     "end_time": "2020-03-25T20:12:39.984007Z",
     "start_time": "2020-03-25T20:12:39.975955Z"
    }
   },
   "outputs": [],
   "source": [
    "from sklearn.model_selection import train_test_split\n",
    "from sklearn.neighbors import KNeighborsClassifier"
   ]
  },
  {
   "cell_type": "markdown",
   "metadata": {},
   "source": [
    "## Train a discriminator (real vs augmented data)"
   ]
  },
  {
   "cell_type": "markdown",
   "metadata": {},
   "source": [
    "### Candidates\n",
    "- Nearest Neighbour\n",
    "- SVM (Linear, RBF)\n",
    "- Gaussian process\n",
    "- Neural Net\n",
    "- Naive Bayes\n",
    "- QDA"
   ]
  },
  {
   "cell_type": "markdown",
   "metadata": {},
   "source": [
    "## Import Files"
   ]
  },
  {
   "cell_type": "code",
   "execution_count": 6,
   "metadata": {},
   "outputs": [],
   "source": [
    "G8_patients = np.load(\"GeneratedDATA/G8_patients.npy\", allow_pickle=True)\n",
    "G36_patients = np.load(\"GeneratedDATA/G36_patients.npy\", allow_pickle=True)"
   ]
  },
  {
   "cell_type": "markdown",
   "metadata": {},
   "source": [
    "### Prepare data for Classification"
   ]
  },
  {
   "cell_type": "code",
   "execution_count": 8,
   "metadata": {
    "ExecuteTime": {
     "end_time": "2020-03-25T20:09:43.047966Z",
     "start_time": "2020-03-25T20:09:42.998067Z"
    }
   },
   "outputs": [],
   "source": [
    "X_real = df[df.columns.difference([\"id\",\"group\"])]\n",
    "X_8pc = G8_patients[\"control\"].reshape((400000, 12))\n",
    "X_8pd = G8_patients[\"diseased\"].reshape((400000, 12))\n",
    "X_36pc = G36_patients[\"control\"].reshape((400000, 12))\n",
    "X_36pd = G36_patients[\"diseased\"].reshape((400000, 12))\n",
    "\n",
    "# map real to 1 and augmented to 0\n",
    "y_real = np.ones(df.group.size)\n",
    "y_8pc = np.zeros(X_8pc.shape[0])\n",
    "y_8pd = np.zeros(X_8pd.shape[0])\n",
    "y_36pc = np.zeros(X_36pc.shape[0])\n",
    "y_36pd = np.zeros(X_36pd.shape[0])"
   ]
  },
  {
   "cell_type": "code",
   "execution_count": 10,
   "metadata": {
    "ExecuteTime": {
     "end_time": "2020-03-25T20:12:37.626972Z",
     "start_time": "2020-03-25T20:12:37.452618Z"
    }
   },
   "outputs": [],
   "source": [
    "X_8 = np.concatenate((X_real, X_8pc, X_8pd), axis = 0)\n",
    "X_36 = np.concatenate((X_real, X_36pc, X_36pd), axis = 0)\n",
    "y_8 = np.concatenate((y_real, y_8pc, y_8pd), axis = 0)\n",
    "y_36 = np.concatenate((y_real, y_36pc, y_36pd), axis = 0)"
   ]
  },
  {
   "cell_type": "code",
   "execution_count": 12,
   "metadata": {
    "ExecuteTime": {
     "end_time": "2020-03-25T20:12:42.717545Z",
     "start_time": "2020-03-25T20:12:42.302623Z"
    }
   },
   "outputs": [],
   "source": [
    "X8_train, X8_test, y8_train, y8_test = train_test_split(X_8, y_8, test_size=.4, random_state=42)\n",
    "X36_train, X36_test, y36_train, y36_test = train_test_split(X_36, y_36, test_size=.4, random_state=42)"
   ]
  },
  {
   "cell_type": "code",
   "execution_count": 13,
   "metadata": {
    "ExecuteTime": {
     "end_time": "2020-03-25T20:23:17.626174Z",
     "start_time": "2020-03-25T20:12:45.063431Z"
    }
   },
   "outputs": [
    {
     "name": "stdout",
     "output_type": "stream",
     "text": [
      "0.83935625\n"
     ]
    }
   ],
   "source": [
    "clf8 = KNeighborsClassifier(3)\n",
    "clf8.fit(X8_train, y8_train)\n",
    "print clf8.score(X8_test,y8_test)"
   ]
  },
  {
   "cell_type": "code",
   "execution_count": 14,
   "metadata": {
    "ExecuteTime": {
     "end_time": "2020-03-25T20:34:51.918985Z",
     "start_time": "2020-03-25T20:24:34.602660Z"
    }
   },
   "outputs": [
    {
     "name": "stdout",
     "output_type": "stream",
     "text": [
      "0.7722546875\n"
     ]
    }
   ],
   "source": [
    "clf36 = KNeighborsClassifier(3)\n",
    "clf36.fit(X36_train, y36_train)\n",
    "print clf36.score(X36_test,y36_test)"
   ]
  },
  {
   "cell_type": "markdown",
   "metadata": {},
   "source": [
    "### Notes\n",
    "- We can see that GMM with 36 components better confuses the classifier\n",
    "- However, a simple classifier like KNeighborsClassifier can still distinguish between real and augmented data better than random"
   ]
  }
 ],
 "metadata": {
  "kernelspec": {
   "display_name": "Python 3",
   "language": "python",
   "name": "python3"
  },
  "language_info": {
   "codemirror_mode": {
    "name": "ipython",
    "version": 2
   },
   "file_extension": ".py",
   "mimetype": "text/x-python",
   "name": "python",
   "nbconvert_exporter": "python",
   "pygments_lexer": "ipython2",
   "version": "2.7.16"
  }
 },
 "nbformat": 4,
 "nbformat_minor": 2
}
