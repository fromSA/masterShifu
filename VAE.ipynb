{
 "cells": [
  {
   "cell_type": "markdown",
   "metadata": {},
   "source": [
    "# Variational Autoencoder"
   ]
  },
  {
   "cell_type": "markdown",
   "metadata": {},
   "source": [
    "1. Do a hyperparameter gridsearch over the following to find the best fitting VAE, i.e. the model that best fittes the data. \n",
    "    - {encoder : {nr. layers, dim. per layer, activation function}\n",
    "    - hidenDimension : {dimension}\n",
    "    - decoder: {nr. layers, dim. per layer, activation function}}\n"
   ]
  },
  {
   "cell_type": "code",
   "execution_count": 40,
   "metadata": {},
   "outputs": [],
   "source": [
    "import random\n",
    "def rand_dec_layers(size, rang):\n",
    "    s,e = rang\n",
    "    sampled_list = random.sample(range(s,e),size)\n",
    "    sampled_list.sort()\n",
    "    return sampled_list\n",
    "        \n",
    "hyperparameters_encoder = {\"nr_hidden_layers\": list(range(2,12)),\n",
    "                           \"dim_per_layer\" : lambda x : rand_dec_layers(x,(2,12)), \n",
    "                           \"activation_function\": [\"relu\",\"sigma\", \"sigmoid\", \"tanh\", \"selu\", \"softsign\", \"elu\", \"softmax\"],\n",
    "                          \"reconstruction_loss\": [\"mse\",\"mae\",\"mape\",\"msle\", \"logCos\"]}"
   ]
  },
  {
   "cell_type": "code",
   "execution_count": 41,
   "metadata": {},
   "outputs": [],
   "source": [
    "import numpy as np\n",
    "import pandas as pd\n",
    "import tensorflow as tf\n",
    "from tensorflow import keras\n",
    "from keras import backend as K\n",
    "import matplotlib.pyplot as plt\n",
    "from tensorflow.keras import layers\n",
    "from sklearn.model_selection import train_test_split"
   ]
  },
  {
   "cell_type": "markdown",
   "metadata": {},
   "source": [
    "## VAE"
   ]
  },
  {
   "cell_type": "markdown",
   "metadata": {},
   "source": [
    "### A sampling layer"
   ]
  },
  {
   "cell_type": "code",
   "execution_count": 42,
   "metadata": {},
   "outputs": [],
   "source": [
    "class Sampling(layers.Layer):\n",
    "    \"\"\"Uses (z_mean, z_log_var) to sample z, the vector encoding a digit.\"\"\"\n",
    "\n",
    "    def call(self, inputs):\n",
    "        z_mean, z_log_var = inputs\n",
    "        batch = tf.shape(z_mean)[0]\n",
    "        dim = tf.shape(z_mean)[1]\n",
    "        epsilon = tf.keras.backend.random_normal(shape=(batch, dim))\n",
    "        return z_mean + tf.exp(0.5 * z_log_var) * epsilon"
   ]
  },
  {
   "cell_type": "markdown",
   "metadata": {},
   "source": [
    "## Encoder"
   ]
  },
  {
   "cell_type": "code",
   "execution_count": 43,
   "metadata": {},
   "outputs": [],
   "source": [
    "def create_encoder(latent_dim, input_shape):\n",
    "    # An encoder of single selfs.\n",
    "    encoder_inputs = keras.Input(shape=(input_shape,))\n",
    "    x = layers.Dense(10, activation=\"relu\")(encoder_inputs)\n",
    "    x = layers.Dense(8, activation=\"relu\")(x)\n",
    "    x = layers.Dense(6, activation=\"relu\")(x)\n",
    "\n",
    "    z_mean = layers.Dense(latent_dim, name=\"z_mean\")(x)\n",
    "    z_log_var = layers.Dense(latent_dim, name=\"z_log_var\")(x)\n",
    "    z = Sampling()([z_mean, z_log_var])\n",
    "\n",
    "    encoder = keras.Model(encoder_inputs, [z_mean, z_log_var, z], name=\"encoder\")\n",
    "    return encoder"
   ]
  },
  {
   "cell_type": "markdown",
   "metadata": {},
   "source": [
    "## Decoder"
   ]
  },
  {
   "cell_type": "code",
   "execution_count": 44,
   "metadata": {},
   "outputs": [],
   "source": [
    "def create_decoder(latent_dim):\n",
    "    decoder_inputs = keras.Input(shape=(latent_dim,), name =\"latent_variable\")\n",
    "    x = layers.Dense(6,activation=\"relu\")(decoder_inputs)\n",
    "    x = layers.Dense(8, activation=\"relu\")(x)\n",
    "    x = layers.Dense(10, activation=\"relu\")(x)\n",
    "    decoder_outputs = layers.Dense(12, activation=\"relu\", name=\"output_layer\")(x)\n",
    "    decoder = keras.Model(decoder_inputs, decoder_outputs, name=\"decoder\")\n",
    "    return decoder"
   ]
  },
  {
   "cell_type": "markdown",
   "metadata": {},
   "source": [
    "## VAE-model"
   ]
  },
  {
   "cell_type": "code",
   "execution_count": 68,
   "metadata": {},
   "outputs": [],
   "source": [
    "class VAE(keras.Model):\n",
    "    def __init__(self, encoder, decoder, **kwargs):\n",
    "        super(VAE, self).__init__(**kwargs)\n",
    "        self.encoder = encoder\n",
    "        self.decoder = decoder\n",
    "\n",
    "    def train_step(self, data):\n",
    "        if isinstance(data, tuple):\n",
    "            data = data[0]\n",
    "        with tf.GradientTape() as tape:\n",
    "            \n",
    "            z_mean, z_log_var, z = self.encoder(data)\n",
    "            reconstruction = self.decoder(z)\n",
    "            \n",
    "            \n",
    "            # Use MSE as a construction loss\n",
    "            mse = tf.keras.losses.MeanSquaredError()\n",
    "            reconstruction_loss = mse(data, reconstruction)\n",
    "            \n",
    "            \n",
    "            kl_loss = 1 + z_log_var - tf.square(z_mean) - tf.exp(z_log_var)\n",
    "            kl_loss = tf.reduce_mean(kl_loss)\n",
    "            kl_loss *= -0.5\n",
    "            \n",
    "            total_loss = reconstruction_loss + kl_loss\n",
    "            \n",
    "        grads = tape.gradient(total_loss, self.trainable_weights)\n",
    "        self.optimizer.apply_gradients(zip(grads, self.trainable_weights))\n",
    "        return {\n",
    "            \"loss\": total_loss,\n",
    "            \"reconstruction_loss\": reconstruction_loss,\n",
    "            \"kl_loss\": kl_loss,\n",
    "        }"
   ]
  },
  {
   "cell_type": "markdown",
   "metadata": {},
   "source": [
    "## DATA"
   ]
  },
  {
   "cell_type": "code",
   "execution_count": 46,
   "metadata": {},
   "outputs": [],
   "source": [
    "import math"
   ]
  },
  {
   "cell_type": "code",
   "execution_count": 4,
   "metadata": {},
   "outputs": [],
   "source": [
    "cells = pd.read_csv(\"ModifiedDATA/scaled_ra.csv\")"
   ]
  },
  {
   "cell_type": "code",
   "execution_count": 47,
   "metadata": {},
   "outputs": [],
   "source": [
    "control_group = cells[cells.group == 'control']\n",
    "diseased_group = cells[cells.group == 'diseased']"
   ]
  },
  {
   "cell_type": "markdown",
   "metadata": {},
   "source": [
    "### Diseased Group VAE"
   ]
  },
  {
   "cell_type": "code",
   "execution_count": 79,
   "metadata": {},
   "outputs": [
    {
     "name": "stdout",
     "output_type": "stream",
     "text": [
      "Epoch 1/20\n",
      "3125/3125 [==============================] - 3s 1ms/step - loss: 2.0662 - reconstruction_loss: 1.8657 - kl_loss: 0.2005\n",
      "Epoch 2/20\n",
      "3125/3125 [==============================] - 3s 845us/step - loss: 1.8299 - reconstruction_loss: 1.4907 - kl_loss: 0.3392\n",
      "Epoch 3/20\n",
      "3125/3125 [==============================] - 3s 837us/step - loss: 1.7554 - reconstruction_loss: 1.2677 - kl_loss: 0.4877\n",
      "Epoch 4/20\n",
      "3125/3125 [==============================] - 2s 788us/step - loss: 1.7459 - reconstruction_loss: 1.2314 - kl_loss: 0.5145\n",
      "Epoch 5/20\n",
      "3125/3125 [==============================] - 3s 894us/step - loss: 1.7378 - reconstruction_loss: 1.2111 - kl_loss: 0.5267\n",
      "Epoch 6/20\n",
      "3125/3125 [==============================] - 3s 845us/step - loss: 1.7338 - reconstruction_loss: 1.1960 - kl_loss: 0.5379\n",
      "Epoch 7/20\n",
      "3125/3125 [==============================] - 3s 812us/step - loss: 1.7294 - reconstruction_loss: 1.1862 - kl_loss: 0.5432\n",
      "Epoch 8/20\n",
      "3125/3125 [==============================] - 3s 897us/step - loss: 1.7283 - reconstruction_loss: 1.1792 - kl_loss: 0.5491\n",
      "Epoch 9/20\n",
      "3125/3125 [==============================] - 3s 852us/step - loss: 1.7291 - reconstruction_loss: 1.1780 - kl_loss: 0.5511\n",
      "Epoch 10/20\n",
      "3125/3125 [==============================] - 3s 808us/step - loss: 1.7283 - reconstruction_loss: 1.1771 - kl_loss: 0.5512\n",
      "Epoch 11/20\n",
      "3125/3125 [==============================] - 2s 774us/step - loss: 1.7264 - reconstruction_loss: 1.1721 - kl_loss: 0.5543\n",
      "Epoch 12/20\n",
      "3125/3125 [==============================] - 3s 874us/step - loss: 1.7253 - reconstruction_loss: 1.1701 - kl_loss: 0.5552\n",
      "Epoch 13/20\n",
      "3125/3125 [==============================] - 2s 769us/step - loss: 1.7261 - reconstruction_loss: 1.1714 - kl_loss: 0.5547\n",
      "Epoch 14/20\n",
      "3125/3125 [==============================] - 3s 817us/step - loss: 1.7251 - reconstruction_loss: 1.1716 - kl_loss: 0.5536\n",
      "Epoch 15/20\n",
      "3125/3125 [==============================] - 2s 741us/step - loss: 1.7244 - reconstruction_loss: 1.1715 - kl_loss: 0.5529\n",
      "Epoch 16/20\n",
      "3125/3125 [==============================] - 2s 765us/step - loss: 1.7251 - reconstruction_loss: 1.1701 - kl_loss: 0.5551\n",
      "Epoch 17/20\n",
      "3125/3125 [==============================] - 2s 738us/step - loss: 1.7246 - reconstruction_loss: 1.1683 - kl_loss: 0.5564\n",
      "Epoch 18/20\n",
      "3125/3125 [==============================] - 2s 770us/step - loss: 1.7239 - reconstruction_loss: 1.1664 - kl_loss: 0.5575\n",
      "Epoch 19/20\n",
      "3125/3125 [==============================] - 3s 962us/step - loss: 1.7242 - reconstruction_loss: 1.1698 - kl_loss: 0.5544\n",
      "Epoch 20/20\n",
      "3125/3125 [==============================] - 3s 972us/step - loss: 1.7238 - reconstruction_loss: 1.1679 - kl_loss: 0.5559 0s - loss: 1.7238 - reconstruction_loss: 1.1680 - kl_loss: 0.\n"
     ]
    },
    {
     "data": {
      "text/plain": [
       "<tensorflow.python.keras.callbacks.History at 0x140bf8e50>"
      ]
     },
     "execution_count": 79,
     "metadata": {},
     "output_type": "execute_result"
    }
   ],
   "source": [
    "diseased_data = diseased_group[diseased_group.columns.difference([\"group\", \"id\"])]\n",
    "\n",
    "latent_dim = 2\n",
    "input_shape = diseased_data.columns.shape[0]\n",
    "diseased_encoder = create_encoder(latent_dim, input_shape)\n",
    "diseased_decoder = create_decoder(latent_dim)\n",
    "\n",
    "diseased_vae = VAE(diseased_encoder, diseased_decoder)\n",
    "diseased_vae.compile(optimizer=keras.optimizers.Adam())\n",
    "diseased_vae.fit(diseased_data, epochs=20, batch_size=128)"
   ]
  },
  {
   "cell_type": "markdown",
   "metadata": {},
   "source": [
    "### Control group vae"
   ]
  },
  {
   "cell_type": "code",
   "execution_count": 70,
   "metadata": {
    "scrolled": false
   },
   "outputs": [
    {
     "name": "stdout",
     "output_type": "stream",
     "text": [
      "Epoch 1/20\n",
      "3125/3125 [==============================] - 4s 1ms/step - loss: 1.5981 - reconstruction_loss: 1.4449 - kl_loss: 0.1531\n",
      "Epoch 2/20\n",
      "3125/3125 [==============================] - 3s 895us/step - loss: 1.3221 - reconstruction_loss: 0.8579 - kl_loss: 0.4641\n",
      "Epoch 3/20\n",
      "3125/3125 [==============================] - 3s 836us/step - loss: 1.2701 - reconstruction_loss: 0.7403 - kl_loss: 0.5299\n",
      "Epoch 4/20\n",
      "3125/3125 [==============================] - 3s 981us/step - loss: 1.2649 - reconstruction_loss: 0.7291 - kl_loss: 0.5358\n",
      "Epoch 5/20\n",
      "3125/3125 [==============================] - 2s 778us/step - loss: 1.2615 - reconstruction_loss: 0.7162 - kl_loss: 0.5453\n",
      "Epoch 6/20\n",
      "3125/3125 [==============================] - 2s 776us/step - loss: 1.2598 - reconstruction_loss: 0.7049 - kl_loss: 0.5549\n",
      "Epoch 7/20\n",
      "3125/3125 [==============================] - 2s 790us/step - loss: 1.2540 - reconstruction_loss: 0.6879 - kl_loss: 0.5661\n",
      "Epoch 8/20\n",
      "3125/3125 [==============================] - 3s 921us/step - loss: 1.2489 - reconstruction_loss: 0.6718 - kl_loss: 0.5771\n",
      "Epoch 9/20\n",
      "3125/3125 [==============================] - 3s 1ms/step - loss: 1.2439 - reconstruction_loss: 0.6579 - kl_loss: 0.5861\n",
      "Epoch 10/20\n",
      "3125/3125 [==============================] - 3s 876us/step - loss: 1.2416 - reconstruction_loss: 0.6485 - kl_loss: 0.5931\n",
      "Epoch 11/20\n",
      "3125/3125 [==============================] - 3s 1ms/step - loss: 1.2419 - reconstruction_loss: 0.6431 - kl_loss: 0.5988\n",
      "Epoch 12/20\n",
      "3125/3125 [==============================] - 4s 1ms/step - loss: 1.2396 - reconstruction_loss: 0.6401 - kl_loss: 0.5995\n",
      "Epoch 13/20\n",
      "3125/3125 [==============================] - 3s 956us/step - loss: 1.2392 - reconstruction_loss: 0.6382 - kl_loss: 0.6010\n",
      "Epoch 14/20\n",
      "3125/3125 [==============================] - 2s 800us/step - loss: 1.2379 - reconstruction_loss: 0.6373 - kl_loss: 0.6005\n",
      "Epoch 15/20\n",
      "3125/3125 [==============================] - 3s 841us/step - loss: 1.2374 - reconstruction_loss: 0.6354 - kl_loss: 0.6020\n",
      "Epoch 16/20\n",
      "3125/3125 [==============================] - 3s 817us/step - loss: 1.2375 - reconstruction_loss: 0.6334 - kl_loss: 0.6041\n",
      "Epoch 17/20\n",
      "3125/3125 [==============================] - 3s 855us/step - loss: 1.2375 - reconstruction_loss: 0.6336 - kl_loss: 0.6039\n",
      "Epoch 18/20\n",
      "3125/3125 [==============================] - 3s 835us/step - loss: 1.2367 - reconstruction_loss: 0.6330 - kl_loss: 0.6037\n",
      "Epoch 19/20\n",
      "3125/3125 [==============================] - 3s 880us/step - loss: 1.2360 - reconstruction_loss: 0.6317 - kl_loss: 0.6043\n",
      "Epoch 20/20\n",
      "3125/3125 [==============================] - 3s 839us/step - loss: 1.2358 - reconstruction_loss: 0.6318 - kl_loss: 0.6039\n"
     ]
    },
    {
     "data": {
      "text/plain": [
       "<tensorflow.python.keras.callbacks.History at 0x14092a050>"
      ]
     },
     "execution_count": 70,
     "metadata": {},
     "output_type": "execute_result"
    }
   ],
   "source": [
    "control_data = control_group[control_group.columns.difference([\"group\", \"id\"])]\n",
    "\n",
    "latent_dim = 2\n",
    "input_shape = control_data.columns.shape[0]\n",
    "control_encoder = create_encoder(latent_dim, input_shape)\n",
    "control_decoder = create_decoder(latent_dim)\n",
    "\n",
    "control_vae = VAE(control_encoder, control_decoder)\n",
    "control_vae.compile(optimizer=keras.optimizers.Adam())\n",
    "control_vae.fit(control_data, epochs=20, batch_size=128)"
   ]
  },
  {
   "cell_type": "code",
   "execution_count": null,
   "metadata": {},
   "outputs": [],
   "source": []
  },
  {
   "cell_type": "code",
   "execution_count": 71,
   "metadata": {},
   "outputs": [],
   "source": [
    "def plot_label_clusters(encoder, decoder, data, labels=None):\n",
    "    # display a 2D plot of the digit classes in the latent space\n",
    "    z_mean, z_var, _ = encoder.predict(data)\n",
    "    plt.figure(figsize=(12, 10))\n",
    "    plt.scatter(z_mean[:, 0], z_mean[:, 1], label=\"Mean\")\n",
    "    plt.scatter(z_var[:,0], z_var[:,1], label=\"Variance\")\n",
    "    #plt.colorbar()\n",
    "    plt.legend()\n",
    "    plt.xlabel(\"z_0\")\n",
    "    plt.ylabel(\"z_1\")\n",
    "    plt.show()"
   ]
  },
  {
   "cell_type": "code",
   "execution_count": 72,
   "metadata": {},
   "outputs": [
    {
     "data": {
      "image/png": "[encoded data removed]",
      "text/plain": [
       "<Figure size 864x720 with 1 Axes>"
      ]
     },
     "metadata": {
      "needs_background": "light"
     },
     "output_type": "display_data"
    }
   ],
   "source": [
    "plot_label_clusters(control_encoder, control_decoder, control_data)"
   ]
  },
  {
   "cell_type": "code",
   "execution_count": 73,
   "metadata": {
    "scrolled": false
   },
   "outputs": [
    {
     "data": {
      "image/png": "[encoded data removed]",
      "text/plain": [
       "<Figure size 864x720 with 1 Axes>"
      ]
     },
     "metadata": {
      "needs_background": "light"
     },
     "output_type": "display_data"
    }
   ],
   "source": [
    "plot_label_clusters(diseased_encoder, diseased_decoder, diseased_data)"
   ]
  },
  {
   "cell_type": "code",
   "execution_count": null,
   "metadata": {},
   "outputs": [],
   "source": []
  },
  {
   "cell_type": "code",
   "execution_count": null,
   "metadata": {},
   "outputs": [],
   "source": [
    "import matplotlib.pyplot as plt\n",
    "\n",
    "\n",
    "def plot_latent(encoder, decoder):\n",
    "    # display a n*n 2D manifold of digits\n",
    "    n = 30\n",
    "    digit_size = 28\n",
    "    scale = 2.0\n",
    "    figsize = 15\n",
    "    figure = np.zeros((digit_size * n, digit_size * n))\n",
    "    # linearly spaced coordinates corresponding to the 2D plot\n",
    "    # of digit classes in the latent space\n",
    "    grid_x = np.linspace(-scale, scale, n)\n",
    "    grid_y = np.linspace(-scale, scale, n)[::-1]\n",
    "\n",
    "    for i, yi in enumerate(grid_y):\n",
    "        for j, xi in enumerate(grid_x):\n",
    "            z_sample = np.array([[xi, yi]])\n",
    "            x_decoded = decoder.predict(z_sample)\n",
    "            digit = x_decoded[0].reshape(digit_size, digit_size)\n",
    "            figure[\n",
    "                i * digit_size : (i + 1) * digit_size,\n",
    "                j * digit_size : (j + 1) * digit_size,\n",
    "            ] = digit\n",
    "\n",
    "    plt.figure(figsize=(figsize, figsize))\n",
    "    start_range = digit_size // 2\n",
    "    end_range = n * digit_size + start_range + 1\n",
    "    pixel_range = np.arange(start_range, end_range, digit_size)\n",
    "    sample_range_x = np.round(grid_x, 1)\n",
    "    sample_range_y = np.round(grid_y, 1)\n",
    "    #plt.xticks(pixel_range, sample_range_x)\n",
    "    #plt.yticks(pixel_range, sample_range_y)\n",
    "    plt.xlabel(\"z[0]\")\n",
    "    plt.ylabel(\"z[1]\")\n",
    "    plt.imshow(figure, cmap=\"Greys_r\")\n",
    "    plt.show()\n",
    "\n",
    "\n",
    "plot_latent(encoder, decoder)"
   ]
  }
 ],
 "metadata": {
  "kernelspec": {
   "display_name": "Python 3",
   "language": "python",
   "name": "python3"
  },
  "language_info": {
   "codemirror_mode": {
    "name": "ipython",
    "version": 3
   },
   "file_extension": ".py",
   "mimetype": "text/x-python",
   "name": "python",
   "nbconvert_exporter": "python",
   "pygments_lexer": "ipython3",
   "version": "3.7.4"
  }
 },
 "nbformat": 4,
 "nbformat_minor": 2
}
