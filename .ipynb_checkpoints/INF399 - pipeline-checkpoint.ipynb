{
 "cells": [
  {
   "cell_type": "markdown",
   "metadata": {},
   "source": [
    "# INF367 - Project 2\n",
    "\n",
    "- Deadline: Sunday, 17.11.19, 23.59\n",
    "- Submission details: Jupyter-notebook\n",
    "- Deliver here [MittUIB.no/assignments](MittUIB.no/assignments)\n",
    "\n",
    "Projects are a compulsory part of the course. This project contributes 20% to the final grade. The grade will be based good choice of methods, correctness of answers, clarity of code and thoroughness and clarity of reporting. \n",
    "\n",
    "*Deliverables:* A jupyter notebook containing all the code to reproduce your work and a report of all your methodological choices and results. Please \"restart and run all\" before submission, so that you submit a clean version. \n",
    "\n",
    "Code should be documented and special tricks (e.g. to avoid division by zero, to make sure it takes finite time to run, etc.) should be reported. The rational behind all steps in the code should be clear from the report. In particular, if you use subsampling, you should report it, and you should consider for each step how much subsampling is appropriate. \n",
    "\n",
    "**NOTE:** This project is a learning experience. If we see that you have copied your answers from online resources, you will get 0 points. \n",
    "This is an application project, that means you may use any freely available library for the application tasks of the project.  \n",
    "\n",
    "Model selection is an important part of the task and will be graded accordingly. Before applying machine learning algorithms, you should always consider (and report) what results you expect. When you have successfully applied machine learning algorithms, you should always comment on how well the results match your expectations. "
   ]
  },
  {
   "cell_type": "markdown",
   "metadata": {},
   "source": [
    "## Task 1 - Preprocessing \n",
    "(10 points)\n",
    "\n",
    "In the next task, you will prepare the mass cytometry dataset for analysis. \n",
    "\n",
    "The datasets contain information on 20,000 blood cells of 20 rheumatoid arthritis patients and 20 healthy controls. The first two columns identify the patient and the patient group. The remaining columns are the cell markers measured. \n",
    "\n",
    "In this task you summarize and visualize the data and prepare it for analysis. \n",
    "\n",
    "- Check for any missing values and handle these appropriately. <b style=\"color:green\">DONE</b>\n",
    "- Find the ranges and basic statistics of the features and rescale them if appropriate. For similar data, scaling using `arcsinh(x/5)` has been used successfully. <b style=\"color:green\">DONE</b>\n",
    "- Visualize the univariate densities of all features using your favorite density estimator. <b style=\"color:green\">DONE</b>\n",
    "- Calculate basic bivariate statistics, such as correlations. <b style=\"color:green\">DONE</b>\n",
    "- Perform any other appropriate preprocessing steps. <b style=\"color:green\">DONE</b> \n",
    "- Discuss the results of your summaries and visualization efforts and explain your preprocessing choices (not doing any preprocessing is also a choice). <b style=\"color:green\">DONE</b>"
   ]
  },
  {
   "cell_type": "markdown",
   "metadata": {},
   "source": [
    "## Task 2 - Dimensionality reduction\n",
    "(15 points)\n",
    "\n",
    "- Visualize the mass cytometry dataset using at least three different representation learning algorithms.  <b style=\"color:green\">DONE</b>\n",
    "- Explain your choices of algorithms. <b style=\"color:green\">DONE</b>\n",
    "- For each algorithm, explain your choice of parameters. <b style=\"color:green\">DONE</b>\n",
    "- For each dimensionality reduction, describe the main features you see and discuss if these features come from the data or the dimensionality reduction technique. <b style=\"color:green\">DONE</b>\n",
    "- Discuss the differences and similarities of your dimensionality reductions. <b style=\"color:green\">DONE</b>"
   ]
  },
  {
   "cell_type": "markdown",
   "metadata": {},
   "source": [
    "## Task 3 - Clustering\n",
    "\n",
    "(25 points)\n",
    "\n",
    "- Train at least five cluster algorithms discussed in class on the mass cytometry dataset. <b style=\"color:green\">DONE</b>\n",
    "- Explain your choices of algorithms.  <b style=\"color:green\">DONE</b>\n",
    "- For each algorithm, explain how your choice of parameters. <b style=\"color:orange\">HALF DONE</b>\n",
    "- Check the clustering performance using two different internal cluster validation measures (explain your choices).<b style=\"color:red\">TODO</b>\n",
    "- Discuss the performance (computation time, internal validation) of different methods. <b style=\"color:red\">TODO</b>\n",
    "- Visualize the three best clusterings using the dimensionality reduction from above. Use the coordinates of the dimensionality reduction and color points by the cluster they belong to. Use a qualitative color scale. <b style=\"color:red\">TODO</b>\n",
    "- Discuss how the dimensionality reduction and the clustering algorithms agree with each other. <b style=\"color:red\">TODO</b>"
   ]
  },
  {
   "cell_type": "markdown",
   "metadata": {},
   "source": [
    "## Task 4 - External validation\n",
    "(10 points)\n",
    "\n",
    "- For each patient, calculate the cluster sizes of the best clustering. <b style=\"color:red\">TODO</b>\n",
    "- Visualize these cluster sizes using a simple representation learning algorithm (explain your choice). <b style=\"color:red\">TODO</b>\n",
    "- Use two supervised learning methods with the cluster sizes as predictors and patient group as outcome. The dataset is very small, so report on cross-validation accuracy and AUC. <b style=\"color:red\">TODO</b>\n",
    "- Explain your choices of algorithms. <b style=\"color:red\">TODO</b>\n",
    "- Explain how you performed the cross-validation step. <b style=\"color:red\">TODO</b>\n",
    "- Discuss how this classification validated your clustering in the previous step. <b style=\"color:red\">TODO</b>"
   ]
  },
  {
   "cell_type": "code",
   "execution_count": null,
   "metadata": {},
   "outputs": [],
   "source": []
  }
 ],
 "metadata": {
  "kernelspec": {
   "display_name": "Python 2",
   "language": "python",
   "name": "python2"
  },
  "language_info": {
   "codemirror_mode": {
    "name": "ipython",
    "version": 2
   },
   "file_extension": ".py",
   "mimetype": "text/x-python",
   "name": "python",
   "nbconvert_exporter": "python",
   "pygments_lexer": "ipython2",
   "version": "2.7.16"
  },
  "varInspector": {
   "cols": {
    "lenName": 16,
    "lenType": 16,
    "lenVar": 40
   },
   "kernels_config": {
    "python": {
     "delete_cmd_postfix": "",
     "delete_cmd_prefix": "del ",
     "library": "var_list.py",
     "varRefreshCmd": "print(var_dic_list())"
    },
    "r": {
     "delete_cmd_postfix": ") ",
     "delete_cmd_prefix": "rm(",
     "library": "var_list.r",
     "varRefreshCmd": "cat(var_dic_list()) "
    }
   },
   "types_to_exclude": [
    "module",
    "function",
    "builtin_function_or_method",
    "instance",
    "_Feature"
   ],
   "window_display": false
  }
 },
 "nbformat": 4,
 "nbformat_minor": 2
}
